{
 "cells": [
  {
   "cell_type": "code",
   "execution_count": 31,
   "metadata": {},
   "outputs": [],
   "source": [
    "import pandas as pd\n"
   ]
  },
  {
   "cell_type": "code",
   "execution_count": 32,
   "metadata": {
    "scrolled": true
   },
   "outputs": [
    {
     "data": {
      "text/html": [
       "<div>\n",
       "<style scoped>\n",
       "    .dataframe tbody tr th:only-of-type {\n",
       "        vertical-align: middle;\n",
       "    }\n",
       "\n",
       "    .dataframe tbody tr th {\n",
       "        vertical-align: top;\n",
       "    }\n",
       "\n",
       "    .dataframe thead th {\n",
       "        text-align: right;\n",
       "    }\n",
       "</style>\n",
       "<table border=\"1\" class=\"dataframe\">\n",
       "  <thead>\n",
       "    <tr style=\"text-align: right;\">\n",
       "      <th></th>\n",
       "      <th>Name</th>\n",
       "      <th>WHO Region</th>\n",
       "      <th>Cases - cumulative total</th>\n",
       "      <th>Cases - cumulative total per 1 million population</th>\n",
       "      <th>Cases - newly reported in last 7 days</th>\n",
       "      <th>Cases - newly reported in last 24 hours</th>\n",
       "      <th>Deaths - cumulative total</th>\n",
       "      <th>Deaths - cumulative total per 1 million population</th>\n",
       "      <th>Deaths - newly reported in last 7 days</th>\n",
       "      <th>Deaths - newly reported in last 24 hours</th>\n",
       "      <th>Transmission Classification</th>\n",
       "    </tr>\n",
       "  </thead>\n",
       "  <tbody>\n",
       "    <tr>\n",
       "      <th>0</th>\n",
       "      <td>Global</td>\n",
       "      <td>NaN</td>\n",
       "      <td>99363697</td>\n",
       "      <td>12728.637293</td>\n",
       "      <td>4043559</td>\n",
       "      <td>410152</td>\n",
       "      <td>2135959</td>\n",
       "      <td>273.619523</td>\n",
       "      <td>96925</td>\n",
       "      <td>10413</td>\n",
       "      <td>NaN</td>\n",
       "    </tr>\n",
       "    <tr>\n",
       "      <th>1</th>\n",
       "      <td>United States of America</td>\n",
       "      <td>Americas</td>\n",
       "      <td>24916899</td>\n",
       "      <td>75277.040000</td>\n",
       "      <td>1174840</td>\n",
       "      <td>141691</td>\n",
       "      <td>416004</td>\n",
       "      <td>1256.800000</td>\n",
       "      <td>21416</td>\n",
       "      <td>1921</td>\n",
       "      <td>Community transmission</td>\n",
       "    </tr>\n",
       "    <tr>\n",
       "      <th>2</th>\n",
       "      <td>India</td>\n",
       "      <td>South-East Asia</td>\n",
       "      <td>10676838</td>\n",
       "      <td>7736.810000</td>\n",
       "      <td>95001</td>\n",
       "      <td>9102</td>\n",
       "      <td>153587</td>\n",
       "      <td>111.290000</td>\n",
       "      <td>1031</td>\n",
       "      <td>117</td>\n",
       "      <td>Clusters of cases</td>\n",
       "    </tr>\n",
       "    <tr>\n",
       "      <th>3</th>\n",
       "      <td>Brazil</td>\n",
       "      <td>Americas</td>\n",
       "      <td>8844577</td>\n",
       "      <td>41609.900000</td>\n",
       "      <td>356478</td>\n",
       "      <td>28323</td>\n",
       "      <td>217037</td>\n",
       "      <td>1021.070000</td>\n",
       "      <td>7190</td>\n",
       "      <td>592</td>\n",
       "      <td>Community transmission</td>\n",
       "    </tr>\n",
       "    <tr>\n",
       "      <th>4</th>\n",
       "      <td>Russian Federation</td>\n",
       "      <td>Europe</td>\n",
       "      <td>3756931</td>\n",
       "      <td>25743.960000</td>\n",
       "      <td>144131</td>\n",
       "      <td>18241</td>\n",
       "      <td>70482</td>\n",
       "      <td>482.970000</td>\n",
       "      <td>3859</td>\n",
       "      <td>564</td>\n",
       "      <td>Clusters of cases</td>\n",
       "    </tr>\n",
       "  </tbody>\n",
       "</table>\n",
       "</div>"
      ],
      "text/plain": [
       "                       Name       WHO Region  Cases - cumulative total  \\\n",
       "0                    Global              NaN                  99363697   \n",
       "1  United States of America         Americas                  24916899   \n",
       "2                     India  South-East Asia                  10676838   \n",
       "3                    Brazil         Americas                   8844577   \n",
       "4        Russian Federation           Europe                   3756931   \n",
       "\n",
       "   Cases - cumulative total per 1 million population  \\\n",
       "0                                       12728.637293   \n",
       "1                                       75277.040000   \n",
       "2                                        7736.810000   \n",
       "3                                       41609.900000   \n",
       "4                                       25743.960000   \n",
       "\n",
       "   Cases - newly reported in last 7 days  \\\n",
       "0                                4043559   \n",
       "1                                1174840   \n",
       "2                                  95001   \n",
       "3                                 356478   \n",
       "4                                 144131   \n",
       "\n",
       "   Cases - newly reported in last 24 hours  Deaths - cumulative total  \\\n",
       "0                                   410152                    2135959   \n",
       "1                                   141691                     416004   \n",
       "2                                     9102                     153587   \n",
       "3                                    28323                     217037   \n",
       "4                                    18241                      70482   \n",
       "\n",
       "   Deaths - cumulative total per 1 million population  \\\n",
       "0                                         273.619523    \n",
       "1                                        1256.800000    \n",
       "2                                         111.290000    \n",
       "3                                        1021.070000    \n",
       "4                                         482.970000    \n",
       "\n",
       "   Deaths - newly reported in last 7 days  \\\n",
       "0                                   96925   \n",
       "1                                   21416   \n",
       "2                                    1031   \n",
       "3                                    7190   \n",
       "4                                    3859   \n",
       "\n",
       "   Deaths - newly reported in last 24 hours Transmission Classification  \n",
       "0                                     10413                         NaN  \n",
       "1                                      1921      Community transmission  \n",
       "2                                       117           Clusters of cases  \n",
       "3                                       592      Community transmission  \n",
       "4                                       564           Clusters of cases  "
      ]
     },
     "execution_count": 32,
     "metadata": {},
     "output_type": "execute_result"
    }
   ],
   "source": [
    "df = pd.read_csv('who2.csv')\n",
    "df.head()"
   ]
  },
  {
   "cell_type": "code",
   "execution_count": 33,
   "metadata": {},
   "outputs": [],
   "source": [
    "df.drop(axis=0,inplace=True,index=0)"
   ]
  },
  {
   "cell_type": "code",
   "execution_count": 34,
   "metadata": {},
   "outputs": [
    {
     "data": {
      "text/html": [
       "<div>\n",
       "<style scoped>\n",
       "    .dataframe tbody tr th:only-of-type {\n",
       "        vertical-align: middle;\n",
       "    }\n",
       "\n",
       "    .dataframe tbody tr th {\n",
       "        vertical-align: top;\n",
       "    }\n",
       "\n",
       "    .dataframe thead th {\n",
       "        text-align: right;\n",
       "    }\n",
       "</style>\n",
       "<table border=\"1\" class=\"dataframe\">\n",
       "  <thead>\n",
       "    <tr style=\"text-align: right;\">\n",
       "      <th></th>\n",
       "      <th>Name</th>\n",
       "      <th>WHO Region</th>\n",
       "      <th>Cases - cumulative total</th>\n",
       "      <th>Cases - cumulative total per 1 million population</th>\n",
       "      <th>Cases - newly reported in last 7 days</th>\n",
       "      <th>Cases - newly reported in last 24 hours</th>\n",
       "      <th>Deaths - cumulative total</th>\n",
       "      <th>Deaths - cumulative total per 1 million population</th>\n",
       "      <th>Deaths - newly reported in last 7 days</th>\n",
       "      <th>Deaths - newly reported in last 24 hours</th>\n",
       "      <th>Transmission Classification</th>\n",
       "    </tr>\n",
       "  </thead>\n",
       "  <tbody>\n",
       "    <tr>\n",
       "      <th>1</th>\n",
       "      <td>United States of America</td>\n",
       "      <td>Americas</td>\n",
       "      <td>24916899</td>\n",
       "      <td>75277.04</td>\n",
       "      <td>1174840</td>\n",
       "      <td>141691</td>\n",
       "      <td>416004</td>\n",
       "      <td>1256.80</td>\n",
       "      <td>21416</td>\n",
       "      <td>1921</td>\n",
       "      <td>Community transmission</td>\n",
       "    </tr>\n",
       "    <tr>\n",
       "      <th>2</th>\n",
       "      <td>India</td>\n",
       "      <td>South-East Asia</td>\n",
       "      <td>10676838</td>\n",
       "      <td>7736.81</td>\n",
       "      <td>95001</td>\n",
       "      <td>9102</td>\n",
       "      <td>153587</td>\n",
       "      <td>111.29</td>\n",
       "      <td>1031</td>\n",
       "      <td>117</td>\n",
       "      <td>Clusters of cases</td>\n",
       "    </tr>\n",
       "    <tr>\n",
       "      <th>3</th>\n",
       "      <td>Brazil</td>\n",
       "      <td>Americas</td>\n",
       "      <td>8844577</td>\n",
       "      <td>41609.90</td>\n",
       "      <td>356478</td>\n",
       "      <td>28323</td>\n",
       "      <td>217037</td>\n",
       "      <td>1021.07</td>\n",
       "      <td>7190</td>\n",
       "      <td>592</td>\n",
       "      <td>Community transmission</td>\n",
       "    </tr>\n",
       "    <tr>\n",
       "      <th>4</th>\n",
       "      <td>Russian Federation</td>\n",
       "      <td>Europe</td>\n",
       "      <td>3756931</td>\n",
       "      <td>25743.96</td>\n",
       "      <td>144131</td>\n",
       "      <td>18241</td>\n",
       "      <td>70482</td>\n",
       "      <td>482.97</td>\n",
       "      <td>3859</td>\n",
       "      <td>564</td>\n",
       "      <td>Clusters of cases</td>\n",
       "    </tr>\n",
       "    <tr>\n",
       "      <th>5</th>\n",
       "      <td>The United Kingdom</td>\n",
       "      <td>Europe</td>\n",
       "      <td>3669662</td>\n",
       "      <td>54056.23</td>\n",
       "      <td>236164</td>\n",
       "      <td>22195</td>\n",
       "      <td>98531</td>\n",
       "      <td>1451.42</td>\n",
       "      <td>8671</td>\n",
       "      <td>592</td>\n",
       "      <td>Community transmission</td>\n",
       "    </tr>\n",
       "  </tbody>\n",
       "</table>\n",
       "</div>"
      ],
      "text/plain": [
       "                       Name       WHO Region  Cases - cumulative total  \\\n",
       "1  United States of America         Americas                  24916899   \n",
       "2                     India  South-East Asia                  10676838   \n",
       "3                    Brazil         Americas                   8844577   \n",
       "4        Russian Federation           Europe                   3756931   \n",
       "5        The United Kingdom           Europe                   3669662   \n",
       "\n",
       "   Cases - cumulative total per 1 million population  \\\n",
       "1                                           75277.04   \n",
       "2                                            7736.81   \n",
       "3                                           41609.90   \n",
       "4                                           25743.96   \n",
       "5                                           54056.23   \n",
       "\n",
       "   Cases - newly reported in last 7 days  \\\n",
       "1                                1174840   \n",
       "2                                  95001   \n",
       "3                                 356478   \n",
       "4                                 144131   \n",
       "5                                 236164   \n",
       "\n",
       "   Cases - newly reported in last 24 hours  Deaths - cumulative total  \\\n",
       "1                                   141691                     416004   \n",
       "2                                     9102                     153587   \n",
       "3                                    28323                     217037   \n",
       "4                                    18241                      70482   \n",
       "5                                    22195                      98531   \n",
       "\n",
       "   Deaths - cumulative total per 1 million population  \\\n",
       "1                                            1256.80    \n",
       "2                                             111.29    \n",
       "3                                            1021.07    \n",
       "4                                             482.97    \n",
       "5                                            1451.42    \n",
       "\n",
       "   Deaths - newly reported in last 7 days  \\\n",
       "1                                   21416   \n",
       "2                                    1031   \n",
       "3                                    7190   \n",
       "4                                    3859   \n",
       "5                                    8671   \n",
       "\n",
       "   Deaths - newly reported in last 24 hours Transmission Classification  \n",
       "1                                      1921      Community transmission  \n",
       "2                                       117           Clusters of cases  \n",
       "3                                       592      Community transmission  \n",
       "4                                       564           Clusters of cases  \n",
       "5                                       592      Community transmission  "
      ]
     },
     "execution_count": 34,
     "metadata": {},
     "output_type": "execute_result"
    }
   ],
   "source": [
    "df.head()"
   ]
  },
  {
   "cell_type": "code",
   "execution_count": 35,
   "metadata": {},
   "outputs": [],
   "source": [
    "df.reset_index(inplace=True,drop=True)"
   ]
  },
  {
   "cell_type": "code",
   "execution_count": 36,
   "metadata": {},
   "outputs": [
    {
     "data": {
      "text/html": [
       "<div>\n",
       "<style scoped>\n",
       "    .dataframe tbody tr th:only-of-type {\n",
       "        vertical-align: middle;\n",
       "    }\n",
       "\n",
       "    .dataframe tbody tr th {\n",
       "        vertical-align: top;\n",
       "    }\n",
       "\n",
       "    .dataframe thead th {\n",
       "        text-align: right;\n",
       "    }\n",
       "</style>\n",
       "<table border=\"1\" class=\"dataframe\">\n",
       "  <thead>\n",
       "    <tr style=\"text-align: right;\">\n",
       "      <th></th>\n",
       "      <th>Name</th>\n",
       "      <th>WHO Region</th>\n",
       "      <th>Cases - cumulative total</th>\n",
       "      <th>Cases - cumulative total per 1 million population</th>\n",
       "      <th>Cases - newly reported in last 7 days</th>\n",
       "      <th>Cases - newly reported in last 24 hours</th>\n",
       "      <th>Deaths - cumulative total</th>\n",
       "      <th>Deaths - cumulative total per 1 million population</th>\n",
       "      <th>Deaths - newly reported in last 7 days</th>\n",
       "      <th>Deaths - newly reported in last 24 hours</th>\n",
       "      <th>Transmission Classification</th>\n",
       "    </tr>\n",
       "  </thead>\n",
       "  <tbody>\n",
       "    <tr>\n",
       "      <th>0</th>\n",
       "      <td>United States of America</td>\n",
       "      <td>Americas</td>\n",
       "      <td>24916899</td>\n",
       "      <td>75277.04</td>\n",
       "      <td>1174840</td>\n",
       "      <td>141691</td>\n",
       "      <td>416004</td>\n",
       "      <td>1256.80</td>\n",
       "      <td>21416</td>\n",
       "      <td>1921</td>\n",
       "      <td>Community transmission</td>\n",
       "    </tr>\n",
       "    <tr>\n",
       "      <th>1</th>\n",
       "      <td>India</td>\n",
       "      <td>South-East Asia</td>\n",
       "      <td>10676838</td>\n",
       "      <td>7736.81</td>\n",
       "      <td>95001</td>\n",
       "      <td>9102</td>\n",
       "      <td>153587</td>\n",
       "      <td>111.29</td>\n",
       "      <td>1031</td>\n",
       "      <td>117</td>\n",
       "      <td>Clusters of cases</td>\n",
       "    </tr>\n",
       "    <tr>\n",
       "      <th>2</th>\n",
       "      <td>Brazil</td>\n",
       "      <td>Americas</td>\n",
       "      <td>8844577</td>\n",
       "      <td>41609.90</td>\n",
       "      <td>356478</td>\n",
       "      <td>28323</td>\n",
       "      <td>217037</td>\n",
       "      <td>1021.07</td>\n",
       "      <td>7190</td>\n",
       "      <td>592</td>\n",
       "      <td>Community transmission</td>\n",
       "    </tr>\n",
       "    <tr>\n",
       "      <th>3</th>\n",
       "      <td>Russian Federation</td>\n",
       "      <td>Europe</td>\n",
       "      <td>3756931</td>\n",
       "      <td>25743.96</td>\n",
       "      <td>144131</td>\n",
       "      <td>18241</td>\n",
       "      <td>70482</td>\n",
       "      <td>482.97</td>\n",
       "      <td>3859</td>\n",
       "      <td>564</td>\n",
       "      <td>Clusters of cases</td>\n",
       "    </tr>\n",
       "    <tr>\n",
       "      <th>4</th>\n",
       "      <td>The United Kingdom</td>\n",
       "      <td>Europe</td>\n",
       "      <td>3669662</td>\n",
       "      <td>54056.23</td>\n",
       "      <td>236164</td>\n",
       "      <td>22195</td>\n",
       "      <td>98531</td>\n",
       "      <td>1451.42</td>\n",
       "      <td>8671</td>\n",
       "      <td>592</td>\n",
       "      <td>Community transmission</td>\n",
       "    </tr>\n",
       "  </tbody>\n",
       "</table>\n",
       "</div>"
      ],
      "text/plain": [
       "                       Name       WHO Region  Cases - cumulative total  \\\n",
       "0  United States of America         Americas                  24916899   \n",
       "1                     India  South-East Asia                  10676838   \n",
       "2                    Brazil         Americas                   8844577   \n",
       "3        Russian Federation           Europe                   3756931   \n",
       "4        The United Kingdom           Europe                   3669662   \n",
       "\n",
       "   Cases - cumulative total per 1 million population  \\\n",
       "0                                           75277.04   \n",
       "1                                            7736.81   \n",
       "2                                           41609.90   \n",
       "3                                           25743.96   \n",
       "4                                           54056.23   \n",
       "\n",
       "   Cases - newly reported in last 7 days  \\\n",
       "0                                1174840   \n",
       "1                                  95001   \n",
       "2                                 356478   \n",
       "3                                 144131   \n",
       "4                                 236164   \n",
       "\n",
       "   Cases - newly reported in last 24 hours  Deaths - cumulative total  \\\n",
       "0                                   141691                     416004   \n",
       "1                                     9102                     153587   \n",
       "2                                    28323                     217037   \n",
       "3                                    18241                      70482   \n",
       "4                                    22195                      98531   \n",
       "\n",
       "   Deaths - cumulative total per 1 million population  \\\n",
       "0                                            1256.80    \n",
       "1                                             111.29    \n",
       "2                                            1021.07    \n",
       "3                                             482.97    \n",
       "4                                            1451.42    \n",
       "\n",
       "   Deaths - newly reported in last 7 days  \\\n",
       "0                                   21416   \n",
       "1                                    1031   \n",
       "2                                    7190   \n",
       "3                                    3859   \n",
       "4                                    8671   \n",
       "\n",
       "   Deaths - newly reported in last 24 hours Transmission Classification  \n",
       "0                                      1921      Community transmission  \n",
       "1                                       117           Clusters of cases  \n",
       "2                                       592      Community transmission  \n",
       "3                                       564           Clusters of cases  \n",
       "4                                       592      Community transmission  "
      ]
     },
     "execution_count": 36,
     "metadata": {},
     "output_type": "execute_result"
    }
   ],
   "source": [
    "df.head()"
   ]
  },
  {
   "cell_type": "code",
   "execution_count": 37,
   "metadata": {},
   "outputs": [
    {
     "ename": "KeyError",
     "evalue": "\"['index'] not found in axis\"",
     "output_type": "error",
     "traceback": [
      "\u001b[1;31m---------------------------------------------------------------------------\u001b[0m",
      "\u001b[1;31mKeyError\u001b[0m                                  Traceback (most recent call last)",
      "\u001b[1;32m<ipython-input-37-6c947464a6bc>\u001b[0m in \u001b[0;36m<module>\u001b[1;34m\u001b[0m\n\u001b[1;32m----> 1\u001b[1;33m \u001b[0mdf\u001b[0m\u001b[1;33m.\u001b[0m\u001b[0mdrop\u001b[0m\u001b[1;33m(\u001b[0m\u001b[1;34m'index'\u001b[0m\u001b[1;33m,\u001b[0m\u001b[0maxis\u001b[0m\u001b[1;33m=\u001b[0m\u001b[1;36m1\u001b[0m\u001b[1;33m,\u001b[0m\u001b[0minplace\u001b[0m\u001b[1;33m=\u001b[0m\u001b[1;32mTrue\u001b[0m\u001b[1;33m)\u001b[0m\u001b[1;33m\u001b[0m\u001b[1;33m\u001b[0m\u001b[0m\n\u001b[0m",
      "\u001b[1;32m~\\anaconda3\\lib\\site-packages\\pandas\\core\\frame.py\u001b[0m in \u001b[0;36mdrop\u001b[1;34m(self, labels, axis, index, columns, level, inplace, errors)\u001b[0m\n\u001b[0;32m   3995\u001b[0m             \u001b[0mlevel\u001b[0m\u001b[1;33m=\u001b[0m\u001b[0mlevel\u001b[0m\u001b[1;33m,\u001b[0m\u001b[1;33m\u001b[0m\u001b[1;33m\u001b[0m\u001b[0m\n\u001b[0;32m   3996\u001b[0m             \u001b[0minplace\u001b[0m\u001b[1;33m=\u001b[0m\u001b[0minplace\u001b[0m\u001b[1;33m,\u001b[0m\u001b[1;33m\u001b[0m\u001b[1;33m\u001b[0m\u001b[0m\n\u001b[1;32m-> 3997\u001b[1;33m             \u001b[0merrors\u001b[0m\u001b[1;33m=\u001b[0m\u001b[0merrors\u001b[0m\u001b[1;33m,\u001b[0m\u001b[1;33m\u001b[0m\u001b[1;33m\u001b[0m\u001b[0m\n\u001b[0m\u001b[0;32m   3998\u001b[0m         )\n\u001b[0;32m   3999\u001b[0m \u001b[1;33m\u001b[0m\u001b[0m\n",
      "\u001b[1;32m~\\anaconda3\\lib\\site-packages\\pandas\\core\\generic.py\u001b[0m in \u001b[0;36mdrop\u001b[1;34m(self, labels, axis, index, columns, level, inplace, errors)\u001b[0m\n\u001b[0;32m   3934\u001b[0m         \u001b[1;32mfor\u001b[0m \u001b[0maxis\u001b[0m\u001b[1;33m,\u001b[0m \u001b[0mlabels\u001b[0m \u001b[1;32min\u001b[0m \u001b[0maxes\u001b[0m\u001b[1;33m.\u001b[0m\u001b[0mitems\u001b[0m\u001b[1;33m(\u001b[0m\u001b[1;33m)\u001b[0m\u001b[1;33m:\u001b[0m\u001b[1;33m\u001b[0m\u001b[1;33m\u001b[0m\u001b[0m\n\u001b[0;32m   3935\u001b[0m             \u001b[1;32mif\u001b[0m \u001b[0mlabels\u001b[0m \u001b[1;32mis\u001b[0m \u001b[1;32mnot\u001b[0m \u001b[1;32mNone\u001b[0m\u001b[1;33m:\u001b[0m\u001b[1;33m\u001b[0m\u001b[1;33m\u001b[0m\u001b[0m\n\u001b[1;32m-> 3936\u001b[1;33m                 \u001b[0mobj\u001b[0m \u001b[1;33m=\u001b[0m \u001b[0mobj\u001b[0m\u001b[1;33m.\u001b[0m\u001b[0m_drop_axis\u001b[0m\u001b[1;33m(\u001b[0m\u001b[0mlabels\u001b[0m\u001b[1;33m,\u001b[0m \u001b[0maxis\u001b[0m\u001b[1;33m,\u001b[0m \u001b[0mlevel\u001b[0m\u001b[1;33m=\u001b[0m\u001b[0mlevel\u001b[0m\u001b[1;33m,\u001b[0m \u001b[0merrors\u001b[0m\u001b[1;33m=\u001b[0m\u001b[0merrors\u001b[0m\u001b[1;33m)\u001b[0m\u001b[1;33m\u001b[0m\u001b[1;33m\u001b[0m\u001b[0m\n\u001b[0m\u001b[0;32m   3937\u001b[0m \u001b[1;33m\u001b[0m\u001b[0m\n\u001b[0;32m   3938\u001b[0m         \u001b[1;32mif\u001b[0m \u001b[0minplace\u001b[0m\u001b[1;33m:\u001b[0m\u001b[1;33m\u001b[0m\u001b[1;33m\u001b[0m\u001b[0m\n",
      "\u001b[1;32m~\\anaconda3\\lib\\site-packages\\pandas\\core\\generic.py\u001b[0m in \u001b[0;36m_drop_axis\u001b[1;34m(self, labels, axis, level, errors)\u001b[0m\n\u001b[0;32m   3968\u001b[0m                 \u001b[0mnew_axis\u001b[0m \u001b[1;33m=\u001b[0m \u001b[0maxis\u001b[0m\u001b[1;33m.\u001b[0m\u001b[0mdrop\u001b[0m\u001b[1;33m(\u001b[0m\u001b[0mlabels\u001b[0m\u001b[1;33m,\u001b[0m \u001b[0mlevel\u001b[0m\u001b[1;33m=\u001b[0m\u001b[0mlevel\u001b[0m\u001b[1;33m,\u001b[0m \u001b[0merrors\u001b[0m\u001b[1;33m=\u001b[0m\u001b[0merrors\u001b[0m\u001b[1;33m)\u001b[0m\u001b[1;33m\u001b[0m\u001b[1;33m\u001b[0m\u001b[0m\n\u001b[0;32m   3969\u001b[0m             \u001b[1;32melse\u001b[0m\u001b[1;33m:\u001b[0m\u001b[1;33m\u001b[0m\u001b[1;33m\u001b[0m\u001b[0m\n\u001b[1;32m-> 3970\u001b[1;33m                 \u001b[0mnew_axis\u001b[0m \u001b[1;33m=\u001b[0m \u001b[0maxis\u001b[0m\u001b[1;33m.\u001b[0m\u001b[0mdrop\u001b[0m\u001b[1;33m(\u001b[0m\u001b[0mlabels\u001b[0m\u001b[1;33m,\u001b[0m \u001b[0merrors\u001b[0m\u001b[1;33m=\u001b[0m\u001b[0merrors\u001b[0m\u001b[1;33m)\u001b[0m\u001b[1;33m\u001b[0m\u001b[1;33m\u001b[0m\u001b[0m\n\u001b[0m\u001b[0;32m   3971\u001b[0m             \u001b[0mresult\u001b[0m \u001b[1;33m=\u001b[0m \u001b[0mself\u001b[0m\u001b[1;33m.\u001b[0m\u001b[0mreindex\u001b[0m\u001b[1;33m(\u001b[0m\u001b[1;33m**\u001b[0m\u001b[1;33m{\u001b[0m\u001b[0maxis_name\u001b[0m\u001b[1;33m:\u001b[0m \u001b[0mnew_axis\u001b[0m\u001b[1;33m}\u001b[0m\u001b[1;33m)\u001b[0m\u001b[1;33m\u001b[0m\u001b[1;33m\u001b[0m\u001b[0m\n\u001b[0;32m   3972\u001b[0m \u001b[1;33m\u001b[0m\u001b[0m\n",
      "\u001b[1;32m~\\anaconda3\\lib\\site-packages\\pandas\\core\\indexes\\base.py\u001b[0m in \u001b[0;36mdrop\u001b[1;34m(self, labels, errors)\u001b[0m\n\u001b[0;32m   5016\u001b[0m         \u001b[1;32mif\u001b[0m \u001b[0mmask\u001b[0m\u001b[1;33m.\u001b[0m\u001b[0many\u001b[0m\u001b[1;33m(\u001b[0m\u001b[1;33m)\u001b[0m\u001b[1;33m:\u001b[0m\u001b[1;33m\u001b[0m\u001b[1;33m\u001b[0m\u001b[0m\n\u001b[0;32m   5017\u001b[0m             \u001b[1;32mif\u001b[0m \u001b[0merrors\u001b[0m \u001b[1;33m!=\u001b[0m \u001b[1;34m\"ignore\"\u001b[0m\u001b[1;33m:\u001b[0m\u001b[1;33m\u001b[0m\u001b[1;33m\u001b[0m\u001b[0m\n\u001b[1;32m-> 5018\u001b[1;33m                 \u001b[1;32mraise\u001b[0m \u001b[0mKeyError\u001b[0m\u001b[1;33m(\u001b[0m\u001b[1;34mf\"{labels[mask]} not found in axis\"\u001b[0m\u001b[1;33m)\u001b[0m\u001b[1;33m\u001b[0m\u001b[1;33m\u001b[0m\u001b[0m\n\u001b[0m\u001b[0;32m   5019\u001b[0m             \u001b[0mindexer\u001b[0m \u001b[1;33m=\u001b[0m \u001b[0mindexer\u001b[0m\u001b[1;33m[\u001b[0m\u001b[1;33m~\u001b[0m\u001b[0mmask\u001b[0m\u001b[1;33m]\u001b[0m\u001b[1;33m\u001b[0m\u001b[1;33m\u001b[0m\u001b[0m\n\u001b[0;32m   5020\u001b[0m         \u001b[1;32mreturn\u001b[0m \u001b[0mself\u001b[0m\u001b[1;33m.\u001b[0m\u001b[0mdelete\u001b[0m\u001b[1;33m(\u001b[0m\u001b[0mindexer\u001b[0m\u001b[1;33m)\u001b[0m\u001b[1;33m\u001b[0m\u001b[1;33m\u001b[0m\u001b[0m\n",
      "\u001b[1;31mKeyError\u001b[0m: \"['index'] not found in axis\""
     ]
    }
   ],
   "source": [
    "df.drop('index',axis=1,inplace=True)"
   ]
  },
  {
   "cell_type": "code",
   "execution_count": 38,
   "metadata": {
    "scrolled": true
   },
   "outputs": [
    {
     "data": {
      "text/html": [
       "<div>\n",
       "<style scoped>\n",
       "    .dataframe tbody tr th:only-of-type {\n",
       "        vertical-align: middle;\n",
       "    }\n",
       "\n",
       "    .dataframe tbody tr th {\n",
       "        vertical-align: top;\n",
       "    }\n",
       "\n",
       "    .dataframe thead th {\n",
       "        text-align: right;\n",
       "    }\n",
       "</style>\n",
       "<table border=\"1\" class=\"dataframe\">\n",
       "  <thead>\n",
       "    <tr style=\"text-align: right;\">\n",
       "      <th></th>\n",
       "      <th>Name</th>\n",
       "      <th>WHO Region</th>\n",
       "      <th>Cases - cumulative total</th>\n",
       "      <th>Cases - cumulative total per 1 million population</th>\n",
       "      <th>Cases - newly reported in last 7 days</th>\n",
       "      <th>Cases - newly reported in last 24 hours</th>\n",
       "      <th>Deaths - cumulative total</th>\n",
       "      <th>Deaths - cumulative total per 1 million population</th>\n",
       "      <th>Deaths - newly reported in last 7 days</th>\n",
       "      <th>Deaths - newly reported in last 24 hours</th>\n",
       "      <th>Transmission Classification</th>\n",
       "    </tr>\n",
       "  </thead>\n",
       "  <tbody>\n",
       "    <tr>\n",
       "      <th>0</th>\n",
       "      <td>United States of America</td>\n",
       "      <td>Americas</td>\n",
       "      <td>24916899</td>\n",
       "      <td>75277.04</td>\n",
       "      <td>1174840</td>\n",
       "      <td>141691</td>\n",
       "      <td>416004</td>\n",
       "      <td>1256.80</td>\n",
       "      <td>21416</td>\n",
       "      <td>1921</td>\n",
       "      <td>Community transmission</td>\n",
       "    </tr>\n",
       "    <tr>\n",
       "      <th>1</th>\n",
       "      <td>India</td>\n",
       "      <td>South-East Asia</td>\n",
       "      <td>10676838</td>\n",
       "      <td>7736.81</td>\n",
       "      <td>95001</td>\n",
       "      <td>9102</td>\n",
       "      <td>153587</td>\n",
       "      <td>111.29</td>\n",
       "      <td>1031</td>\n",
       "      <td>117</td>\n",
       "      <td>Clusters of cases</td>\n",
       "    </tr>\n",
       "    <tr>\n",
       "      <th>2</th>\n",
       "      <td>Brazil</td>\n",
       "      <td>Americas</td>\n",
       "      <td>8844577</td>\n",
       "      <td>41609.90</td>\n",
       "      <td>356478</td>\n",
       "      <td>28323</td>\n",
       "      <td>217037</td>\n",
       "      <td>1021.07</td>\n",
       "      <td>7190</td>\n",
       "      <td>592</td>\n",
       "      <td>Community transmission</td>\n",
       "    </tr>\n",
       "    <tr>\n",
       "      <th>3</th>\n",
       "      <td>Russian Federation</td>\n",
       "      <td>Europe</td>\n",
       "      <td>3756931</td>\n",
       "      <td>25743.96</td>\n",
       "      <td>144131</td>\n",
       "      <td>18241</td>\n",
       "      <td>70482</td>\n",
       "      <td>482.97</td>\n",
       "      <td>3859</td>\n",
       "      <td>564</td>\n",
       "      <td>Clusters of cases</td>\n",
       "    </tr>\n",
       "    <tr>\n",
       "      <th>4</th>\n",
       "      <td>The United Kingdom</td>\n",
       "      <td>Europe</td>\n",
       "      <td>3669662</td>\n",
       "      <td>54056.23</td>\n",
       "      <td>236164</td>\n",
       "      <td>22195</td>\n",
       "      <td>98531</td>\n",
       "      <td>1451.42</td>\n",
       "      <td>8671</td>\n",
       "      <td>592</td>\n",
       "      <td>Community transmission</td>\n",
       "    </tr>\n",
       "  </tbody>\n",
       "</table>\n",
       "</div>"
      ],
      "text/plain": [
       "                       Name       WHO Region  Cases - cumulative total  \\\n",
       "0  United States of America         Americas                  24916899   \n",
       "1                     India  South-East Asia                  10676838   \n",
       "2                    Brazil         Americas                   8844577   \n",
       "3        Russian Federation           Europe                   3756931   \n",
       "4        The United Kingdom           Europe                   3669662   \n",
       "\n",
       "   Cases - cumulative total per 1 million population  \\\n",
       "0                                           75277.04   \n",
       "1                                            7736.81   \n",
       "2                                           41609.90   \n",
       "3                                           25743.96   \n",
       "4                                           54056.23   \n",
       "\n",
       "   Cases - newly reported in last 7 days  \\\n",
       "0                                1174840   \n",
       "1                                  95001   \n",
       "2                                 356478   \n",
       "3                                 144131   \n",
       "4                                 236164   \n",
       "\n",
       "   Cases - newly reported in last 24 hours  Deaths - cumulative total  \\\n",
       "0                                   141691                     416004   \n",
       "1                                     9102                     153587   \n",
       "2                                    28323                     217037   \n",
       "3                                    18241                      70482   \n",
       "4                                    22195                      98531   \n",
       "\n",
       "   Deaths - cumulative total per 1 million population  \\\n",
       "0                                            1256.80    \n",
       "1                                             111.29    \n",
       "2                                            1021.07    \n",
       "3                                             482.97    \n",
       "4                                            1451.42    \n",
       "\n",
       "   Deaths - newly reported in last 7 days  \\\n",
       "0                                   21416   \n",
       "1                                    1031   \n",
       "2                                    7190   \n",
       "3                                    3859   \n",
       "4                                    8671   \n",
       "\n",
       "   Deaths - newly reported in last 24 hours Transmission Classification  \n",
       "0                                      1921      Community transmission  \n",
       "1                                       117           Clusters of cases  \n",
       "2                                       592      Community transmission  \n",
       "3                                       564           Clusters of cases  \n",
       "4                                       592      Community transmission  "
      ]
     },
     "execution_count": 38,
     "metadata": {},
     "output_type": "execute_result"
    }
   ],
   "source": [
    "df.head()"
   ]
  },
  {
   "cell_type": "code",
   "execution_count": 39,
   "metadata": {},
   "outputs": [
    {
     "data": {
      "text/plain": [
       "(237, 11)"
      ]
     },
     "execution_count": 39,
     "metadata": {},
     "output_type": "execute_result"
    }
   ],
   "source": [
    "df.shape"
   ]
  },
  {
   "cell_type": "code",
   "execution_count": 40,
   "metadata": {},
   "outputs": [],
   "source": [
    "data1=df.drop('WHO Region',axis=1)"
   ]
  },
  {
   "cell_type": "code",
   "execution_count": 41,
   "metadata": {
    "scrolled": true
   },
   "outputs": [
    {
     "data": {
      "text/html": [
       "<div>\n",
       "<style scoped>\n",
       "    .dataframe tbody tr th:only-of-type {\n",
       "        vertical-align: middle;\n",
       "    }\n",
       "\n",
       "    .dataframe tbody tr th {\n",
       "        vertical-align: top;\n",
       "    }\n",
       "\n",
       "    .dataframe thead th {\n",
       "        text-align: right;\n",
       "    }\n",
       "</style>\n",
       "<table border=\"1\" class=\"dataframe\">\n",
       "  <thead>\n",
       "    <tr style=\"text-align: right;\">\n",
       "      <th></th>\n",
       "      <th>Name</th>\n",
       "      <th>Cases - cumulative total</th>\n",
       "      <th>Cases - cumulative total per 1 million population</th>\n",
       "      <th>Cases - newly reported in last 7 days</th>\n",
       "      <th>Cases - newly reported in last 24 hours</th>\n",
       "      <th>Deaths - cumulative total</th>\n",
       "      <th>Deaths - cumulative total per 1 million population</th>\n",
       "      <th>Deaths - newly reported in last 7 days</th>\n",
       "      <th>Deaths - newly reported in last 24 hours</th>\n",
       "      <th>Transmission Classification</th>\n",
       "    </tr>\n",
       "  </thead>\n",
       "  <tbody>\n",
       "    <tr>\n",
       "      <th>0</th>\n",
       "      <td>United States of America</td>\n",
       "      <td>24916899</td>\n",
       "      <td>75277.04</td>\n",
       "      <td>1174840</td>\n",
       "      <td>141691</td>\n",
       "      <td>416004</td>\n",
       "      <td>1256.80</td>\n",
       "      <td>21416</td>\n",
       "      <td>1921</td>\n",
       "      <td>Community transmission</td>\n",
       "    </tr>\n",
       "    <tr>\n",
       "      <th>1</th>\n",
       "      <td>India</td>\n",
       "      <td>10676838</td>\n",
       "      <td>7736.81</td>\n",
       "      <td>95001</td>\n",
       "      <td>9102</td>\n",
       "      <td>153587</td>\n",
       "      <td>111.29</td>\n",
       "      <td>1031</td>\n",
       "      <td>117</td>\n",
       "      <td>Clusters of cases</td>\n",
       "    </tr>\n",
       "    <tr>\n",
       "      <th>2</th>\n",
       "      <td>Brazil</td>\n",
       "      <td>8844577</td>\n",
       "      <td>41609.90</td>\n",
       "      <td>356478</td>\n",
       "      <td>28323</td>\n",
       "      <td>217037</td>\n",
       "      <td>1021.07</td>\n",
       "      <td>7190</td>\n",
       "      <td>592</td>\n",
       "      <td>Community transmission</td>\n",
       "    </tr>\n",
       "    <tr>\n",
       "      <th>3</th>\n",
       "      <td>Russian Federation</td>\n",
       "      <td>3756931</td>\n",
       "      <td>25743.96</td>\n",
       "      <td>144131</td>\n",
       "      <td>18241</td>\n",
       "      <td>70482</td>\n",
       "      <td>482.97</td>\n",
       "      <td>3859</td>\n",
       "      <td>564</td>\n",
       "      <td>Clusters of cases</td>\n",
       "    </tr>\n",
       "    <tr>\n",
       "      <th>4</th>\n",
       "      <td>The United Kingdom</td>\n",
       "      <td>3669662</td>\n",
       "      <td>54056.23</td>\n",
       "      <td>236164</td>\n",
       "      <td>22195</td>\n",
       "      <td>98531</td>\n",
       "      <td>1451.42</td>\n",
       "      <td>8671</td>\n",
       "      <td>592</td>\n",
       "      <td>Community transmission</td>\n",
       "    </tr>\n",
       "  </tbody>\n",
       "</table>\n",
       "</div>"
      ],
      "text/plain": [
       "                       Name  Cases - cumulative total  \\\n",
       "0  United States of America                  24916899   \n",
       "1                     India                  10676838   \n",
       "2                    Brazil                   8844577   \n",
       "3        Russian Federation                   3756931   \n",
       "4        The United Kingdom                   3669662   \n",
       "\n",
       "   Cases - cumulative total per 1 million population  \\\n",
       "0                                           75277.04   \n",
       "1                                            7736.81   \n",
       "2                                           41609.90   \n",
       "3                                           25743.96   \n",
       "4                                           54056.23   \n",
       "\n",
       "   Cases - newly reported in last 7 days  \\\n",
       "0                                1174840   \n",
       "1                                  95001   \n",
       "2                                 356478   \n",
       "3                                 144131   \n",
       "4                                 236164   \n",
       "\n",
       "   Cases - newly reported in last 24 hours  Deaths - cumulative total  \\\n",
       "0                                   141691                     416004   \n",
       "1                                     9102                     153587   \n",
       "2                                    28323                     217037   \n",
       "3                                    18241                      70482   \n",
       "4                                    22195                      98531   \n",
       "\n",
       "   Deaths - cumulative total per 1 million population  \\\n",
       "0                                            1256.80    \n",
       "1                                             111.29    \n",
       "2                                            1021.07    \n",
       "3                                             482.97    \n",
       "4                                            1451.42    \n",
       "\n",
       "   Deaths - newly reported in last 7 days  \\\n",
       "0                                   21416   \n",
       "1                                    1031   \n",
       "2                                    7190   \n",
       "3                                    3859   \n",
       "4                                    8671   \n",
       "\n",
       "   Deaths - newly reported in last 24 hours Transmission Classification  \n",
       "0                                      1921      Community transmission  \n",
       "1                                       117           Clusters of cases  \n",
       "2                                       592      Community transmission  \n",
       "3                                       564           Clusters of cases  \n",
       "4                                       592      Community transmission  "
      ]
     },
     "execution_count": 41,
     "metadata": {},
     "output_type": "execute_result"
    }
   ],
   "source": [
    "data1.head()"
   ]
  },
  {
   "cell_type": "code",
   "execution_count": 42,
   "metadata": {},
   "outputs": [],
   "source": [
    "import seaborn as sns\n",
    "import matplotlib.pyplot as plt"
   ]
  },
  {
   "cell_type": "code",
   "execution_count": 43,
   "metadata": {
    "scrolled": true
   },
   "outputs": [
    {
     "data": {
      "text/plain": [
       "(array([ 0,  1,  2,  3,  4,  5,  6,  7,  8,  9, 10, 11, 12, 13, 14, 15, 16,\n",
       "        17, 18, 19]),\n",
       " <a list of 20 Text xticklabel objects>)"
      ]
     },
     "execution_count": 43,
     "metadata": {},
     "output_type": "execute_result"
    },
    {
     "data": {
      "image/png": "[encoded data removed]",
      "text/plain": [
       "<Figure size 432x288 with 1 Axes>"
      ]
     },
     "metadata": {
      "needs_background": "light"
     },
     "output_type": "display_data"
    }
   ],
   "source": [
    "rotat = sns.barplot(y='Cases - newly reported in last 24 hours',x='Name',data=data1.head(20))\n",
    "# rotat.set_xticklabels(rotat.get_xticklabels(), rotation=90)\n",
    "plt.xticks(rotation=90)"
   ]
  },
  {
   "cell_type": "code",
   "execution_count": 44,
   "metadata": {
    "scrolled": true
   },
   "outputs": [
    {
     "data": {
      "text/plain": [
       "(array([ 0,  1,  2,  3,  4,  5,  6,  7,  8,  9, 10, 11, 12, 13, 14, 15, 16,\n",
       "        17, 18, 19]),\n",
       " <a list of 20 Text xticklabel objects>)"
      ]
     },
     "execution_count": 44,
     "metadata": {},
     "output_type": "execute_result"
    },
    {
     "data": {
      "image/png": "[encoded data removed]",
      "text/plain": [
       "<Figure size 432x288 with 1 Axes>"
      ]
     },
     "metadata": {
      "needs_background": "light"
     },
     "output_type": "display_data"
    }
   ],
   "source": [
    "sns.boxplot(y='Cases - newly reported in last 24 hours',x='Name',data=data1.head(20))\n",
    "plt.xticks(rotation=90)"
   ]
  },
  {
   "cell_type": "code",
   "execution_count": 45,
   "metadata": {},
   "outputs": [
    {
     "data": {
      "text/plain": [
       "array(['Community transmission', 'Clusters of cases', 'Sporadic cases',\n",
       "       'Pending', 'Not applicable', 'No cases'], dtype=object)"
      ]
     },
     "execution_count": 45,
     "metadata": {},
     "output_type": "execute_result"
    }
   ],
   "source": [
    "df['Transmission Classification'].unique()"
   ]
  },
  {
   "cell_type": "code",
   "execution_count": 46,
   "metadata": {
    "scrolled": true
   },
   "outputs": [
    {
     "data": {
      "text/plain": [
       "(array([0, 1, 2, 3, 4, 5]), <a list of 6 Text xticklabel objects>)"
      ]
     },
     "execution_count": 46,
     "metadata": {},
     "output_type": "execute_result"
    },
    {
     "data": {
      "image/png": "[encoded data removed]",
      "text/plain": [
       "<Figure size 432x288 with 1 Axes>"
      ]
     },
     "metadata": {
      "needs_background": "light"
     },
     "output_type": "display_data"
    }
   ],
   "source": [
    "sns.countplot(x='Transmission Classification',data=data1)\n",
    "plt.xticks(rotation=90)"
   ]
  },
  {
   "cell_type": "code",
   "execution_count": 47,
   "metadata": {},
   "outputs": [
    {
     "name": "stdout",
     "output_type": "stream",
     "text": [
      "community transmisson caused  77756646  coronavirus cases all around the world\n"
     ]
    }
   ],
   "source": [
    "community_trans=data1[df['Transmission Classification']=='Community transmission']\n",
    "print('community transmisson caused ', community_trans['Cases - cumulative total'].sum(),' coronavirus cases all around the world')"
   ]
  },
  {
   "cell_type": "code",
   "execution_count": 48,
   "metadata": {},
   "outputs": [
    {
     "name": "stdout",
     "output_type": "stream",
     "text": [
      "cluster transmisson caused  21134738  coronavirus cases all around the world\n"
     ]
    }
   ],
   "source": [
    "\n",
    "cluster=data1[df['Transmission Classification']=='Clusters of cases']\n",
    "print('cluster transmisson caused ', cluster['Cases - cumulative total'].sum(),' coronavirus cases all around the world')"
   ]
  },
  {
   "cell_type": "code",
   "execution_count": 49,
   "metadata": {
    "scrolled": true
   },
   "outputs": [
    {
     "data": {
      "text/plain": [
       "(array([ 0,  1,  2,  3,  4,  5,  6,  7,  8,  9, 10, 11, 12, 13, 14, 15, 16,\n",
       "        17, 18, 19]),\n",
       " <a list of 20 Text xticklabel objects>)"
      ]
     },
     "execution_count": 49,
     "metadata": {},
     "output_type": "execute_result"
    },
    {
     "data": {
      "image/png": "[encoded data removed]",
      "text/plain": [
       "<Figure size 432x288 with 1 Axes>"
      ]
     },
     "metadata": {
      "needs_background": "light"
     },
     "output_type": "display_data"
    }
   ],
   "source": [
    "sns.barplot(x='Name',y='Deaths - cumulative total',data=data1.head(20))\n",
    "plt.xticks(rotation=90)"
   ]
  },
  {
   "cell_type": "code",
   "execution_count": 50,
   "metadata": {},
   "outputs": [
    {
     "data": {
      "text/plain": [
       "(array([ 0,  1,  2,  3,  4,  5,  6,  7,  8,  9, 10, 11, 12, 13, 14, 15, 16,\n",
       "        17, 18, 19]),\n",
       " <a list of 20 Text xticklabel objects>)"
      ]
     },
     "execution_count": 50,
     "metadata": {},
     "output_type": "execute_result"
    },
    {
     "data": {
      "image/png": "[encoded data removed]",
      "text/plain": [
       "<Figure size 432x288 with 1 Axes>"
      ]
     },
     "metadata": {
      "needs_background": "light"
     },
     "output_type": "display_data"
    }
   ],
   "source": [
    "sns.barplot(x='Name',y='Deaths - cumulative total per 1 million population',data=data1.head(20))\n",
    "plt.xticks(rotation=90)"
   ]
  },
  {
   "cell_type": "code",
   "execution_count": 51,
   "metadata": {
    "scrolled": true
   },
   "outputs": [
    {
     "data": {
      "text/plain": [
       "(array([ 0,  1,  2,  3,  4,  5,  6,  7,  8,  9, 10, 11, 12, 13, 14, 15, 16,\n",
       "        17, 18, 19]),\n",
       " <a list of 20 Text xticklabel objects>)"
      ]
     },
     "execution_count": 51,
     "metadata": {},
     "output_type": "execute_result"
    },
    {
     "data": {
      "image/png": "[encoded data removed]",
      "text/plain": [
       "<Figure size 432x288 with 1 Axes>"
      ]
     },
     "metadata": {
      "needs_background": "light"
     },
     "output_type": "display_data"
    }
   ],
   "source": [
    "sns.barplot(x='Name',y='Cases - cumulative total',data=community_trans.head(20))\n",
    "plt.xticks(rotation=90)"
   ]
  },
  {
   "cell_type": "code",
   "execution_count": 52,
   "metadata": {
    "scrolled": false
   },
   "outputs": [
    {
     "data": {
      "text/plain": [
       "(array([ 0,  1,  2,  3,  4,  5,  6,  7,  8,  9, 10, 11, 12, 13, 14, 15, 16,\n",
       "        17, 18, 19]),\n",
       " <a list of 20 Text xticklabel objects>)"
      ]
     },
     "execution_count": 52,
     "metadata": {},
     "output_type": "execute_result"
    },
    {
     "data": {
      "image/png": "[encoded data removed]",
      "text/plain": [
       "<Figure size 432x288 with 1 Axes>"
      ]
     },
     "metadata": {
      "needs_background": "light"
     },
     "output_type": "display_data"
    }
   ],
   "source": [
    "sns.barplot(x='Name',y='Cases - cumulative total',data=cluster.head(20))\n",
    "plt.xticks(rotation=90)"
   ]
  },
  {
   "cell_type": "code",
   "execution_count": 53,
   "metadata": {
    "scrolled": true
   },
   "outputs": [
    {
     "data": {
      "text/plain": [
       "(array([ 0,  1,  2,  3,  4,  5,  6,  7,  8,  9, 10, 11, 12, 13, 14, 15, 16,\n",
       "        17, 18, 19]),\n",
       " <a list of 20 Text xticklabel objects>)"
      ]
     },
     "execution_count": 53,
     "metadata": {},
     "output_type": "execute_result"
    },
    {
     "data": {
      "image/png": "[encoded data removed]",
      "text/plain": [
       "<Figure size 1440x504 with 1 Axes>"
      ]
     },
     "metadata": {
      "needs_background": "light"
     },
     "output_type": "display_data"
    }
   ],
   "source": [
    "dims = (20,7)\n",
    "fig,ax = plt.subplots(figsize=dims)\n",
    "sns.barplot(x='Name',y='Deaths - cumulative total per 1 million population',data=cluster.head(20),ax=ax)\n",
    "plt.xticks(rotation=90)"
   ]
  },
  {
   "cell_type": "code",
   "execution_count": 54,
   "metadata": {
    "scrolled": true
   },
   "outputs": [
    {
     "data": {
      "text/html": [
       "<div>\n",
       "<style scoped>\n",
       "    .dataframe tbody tr th:only-of-type {\n",
       "        vertical-align: middle;\n",
       "    }\n",
       "\n",
       "    .dataframe tbody tr th {\n",
       "        vertical-align: top;\n",
       "    }\n",
       "\n",
       "    .dataframe thead th {\n",
       "        text-align: right;\n",
       "    }\n",
       "</style>\n",
       "<table border=\"1\" class=\"dataframe\">\n",
       "  <thead>\n",
       "    <tr style=\"text-align: right;\">\n",
       "      <th></th>\n",
       "      <th>Name</th>\n",
       "      <th>Cases - cumulative total</th>\n",
       "      <th>Cases - cumulative total per 1 million population</th>\n",
       "      <th>Cases - newly reported in last 7 days</th>\n",
       "      <th>Cases - newly reported in last 24 hours</th>\n",
       "      <th>Deaths - cumulative total</th>\n",
       "      <th>Deaths - cumulative total per 1 million population</th>\n",
       "      <th>Deaths - newly reported in last 7 days</th>\n",
       "      <th>Deaths - newly reported in last 24 hours</th>\n",
       "      <th>Transmission Classification</th>\n",
       "    </tr>\n",
       "  </thead>\n",
       "  <tbody>\n",
       "    <tr>\n",
       "      <th>0</th>\n",
       "      <td>United States of America</td>\n",
       "      <td>24916899</td>\n",
       "      <td>75277.04</td>\n",
       "      <td>1174840</td>\n",
       "      <td>141691</td>\n",
       "      <td>416004</td>\n",
       "      <td>1256.80</td>\n",
       "      <td>21416</td>\n",
       "      <td>1921</td>\n",
       "      <td>Community transmission</td>\n",
       "    </tr>\n",
       "    <tr>\n",
       "      <th>2</th>\n",
       "      <td>Brazil</td>\n",
       "      <td>8844577</td>\n",
       "      <td>41609.90</td>\n",
       "      <td>356478</td>\n",
       "      <td>28323</td>\n",
       "      <td>217037</td>\n",
       "      <td>1021.07</td>\n",
       "      <td>7190</td>\n",
       "      <td>592</td>\n",
       "      <td>Community transmission</td>\n",
       "    </tr>\n",
       "    <tr>\n",
       "      <th>4</th>\n",
       "      <td>The United Kingdom</td>\n",
       "      <td>3669662</td>\n",
       "      <td>54056.23</td>\n",
       "      <td>236164</td>\n",
       "      <td>22195</td>\n",
       "      <td>98531</td>\n",
       "      <td>1451.42</td>\n",
       "      <td>8671</td>\n",
       "      <td>592</td>\n",
       "      <td>Community transmission</td>\n",
       "    </tr>\n",
       "    <tr>\n",
       "      <th>5</th>\n",
       "      <td>France</td>\n",
       "      <td>3007706</td>\n",
       "      <td>46078.51</td>\n",
       "      <td>141041</td>\n",
       "      <td>4012</td>\n",
       "      <td>73101</td>\n",
       "      <td>1119.92</td>\n",
       "      <td>2806</td>\n",
       "      <td>445</td>\n",
       "      <td>Community transmission</td>\n",
       "    </tr>\n",
       "    <tr>\n",
       "      <th>6</th>\n",
       "      <td>Spain</td>\n",
       "      <td>2593382</td>\n",
       "      <td>55467.74</td>\n",
       "      <td>203041</td>\n",
       "      <td>8456</td>\n",
       "      <td>56208</td>\n",
       "      <td>1202.19</td>\n",
       "      <td>1445</td>\n",
       "      <td>119</td>\n",
       "      <td>Community transmission</td>\n",
       "    </tr>\n",
       "  </tbody>\n",
       "</table>\n",
       "</div>"
      ],
      "text/plain": [
       "                       Name  Cases - cumulative total  \\\n",
       "0  United States of America                  24916899   \n",
       "2                    Brazil                   8844577   \n",
       "4        The United Kingdom                   3669662   \n",
       "5                    France                   3007706   \n",
       "6                     Spain                   2593382   \n",
       "\n",
       "   Cases - cumulative total per 1 million population  \\\n",
       "0                                           75277.04   \n",
       "2                                           41609.90   \n",
       "4                                           54056.23   \n",
       "5                                           46078.51   \n",
       "6                                           55467.74   \n",
       "\n",
       "   Cases - newly reported in last 7 days  \\\n",
       "0                                1174840   \n",
       "2                                 356478   \n",
       "4                                 236164   \n",
       "5                                 141041   \n",
       "6                                 203041   \n",
       "\n",
       "   Cases - newly reported in last 24 hours  Deaths - cumulative total  \\\n",
       "0                                   141691                     416004   \n",
       "2                                    28323                     217037   \n",
       "4                                    22195                      98531   \n",
       "5                                     4012                      73101   \n",
       "6                                     8456                      56208   \n",
       "\n",
       "   Deaths - cumulative total per 1 million population  \\\n",
       "0                                            1256.80    \n",
       "2                                            1021.07    \n",
       "4                                            1451.42    \n",
       "5                                            1119.92    \n",
       "6                                            1202.19    \n",
       "\n",
       "   Deaths - newly reported in last 7 days  \\\n",
       "0                                   21416   \n",
       "2                                    7190   \n",
       "4                                    8671   \n",
       "5                                    2806   \n",
       "6                                    1445   \n",
       "\n",
       "   Deaths - newly reported in last 24 hours Transmission Classification  \n",
       "0                                      1921      Community transmission  \n",
       "2                                       592      Community transmission  \n",
       "4                                       592      Community transmission  \n",
       "5                                       445      Community transmission  \n",
       "6                                       119      Community transmission  "
      ]
     },
     "execution_count": 54,
     "metadata": {},
     "output_type": "execute_result"
    }
   ],
   "source": [
    "community_trans.head()\n"
   ]
  },
  {
   "cell_type": "code",
   "execution_count": 55,
   "metadata": {
    "scrolled": true
   },
   "outputs": [
    {
     "data": {
      "text/html": [
       "<div>\n",
       "<style scoped>\n",
       "    .dataframe tbody tr th:only-of-type {\n",
       "        vertical-align: middle;\n",
       "    }\n",
       "\n",
       "    .dataframe tbody tr th {\n",
       "        vertical-align: top;\n",
       "    }\n",
       "\n",
       "    .dataframe thead th {\n",
       "        text-align: right;\n",
       "    }\n",
       "</style>\n",
       "<table border=\"1\" class=\"dataframe\">\n",
       "  <thead>\n",
       "    <tr style=\"text-align: right;\">\n",
       "      <th></th>\n",
       "      <th>Name</th>\n",
       "      <th>Cases - cumulative total</th>\n",
       "      <th>Cases - cumulative total per 1 million population</th>\n",
       "      <th>Cases - newly reported in last 7 days</th>\n",
       "      <th>Cases - newly reported in last 24 hours</th>\n",
       "      <th>Deaths - cumulative total</th>\n",
       "      <th>Deaths - cumulative total per 1 million population</th>\n",
       "      <th>Deaths - newly reported in last 7 days</th>\n",
       "      <th>Deaths - newly reported in last 24 hours</th>\n",
       "      <th>Transmission Classification</th>\n",
       "    </tr>\n",
       "  </thead>\n",
       "  <tbody>\n",
       "    <tr>\n",
       "      <th>1</th>\n",
       "      <td>India</td>\n",
       "      <td>10676838</td>\n",
       "      <td>7736.81</td>\n",
       "      <td>95001</td>\n",
       "      <td>9102</td>\n",
       "      <td>153587</td>\n",
       "      <td>111.29</td>\n",
       "      <td>1031</td>\n",
       "      <td>117</td>\n",
       "      <td>Clusters of cases</td>\n",
       "    </tr>\n",
       "    <tr>\n",
       "      <th>3</th>\n",
       "      <td>Russian Federation</td>\n",
       "      <td>3756931</td>\n",
       "      <td>25743.96</td>\n",
       "      <td>144131</td>\n",
       "      <td>18241</td>\n",
       "      <td>70482</td>\n",
       "      <td>482.97</td>\n",
       "      <td>3859</td>\n",
       "      <td>564</td>\n",
       "      <td>Clusters of cases</td>\n",
       "    </tr>\n",
       "    <tr>\n",
       "      <th>7</th>\n",
       "      <td>Italy</td>\n",
       "      <td>2475372</td>\n",
       "      <td>40941.07</td>\n",
       "      <td>85270</td>\n",
       "      <td>8559</td>\n",
       "      <td>85881</td>\n",
       "      <td>1420.42</td>\n",
       "      <td>3327</td>\n",
       "      <td>420</td>\n",
       "      <td>Clusters of cases</td>\n",
       "    </tr>\n",
       "    <tr>\n",
       "      <th>25</th>\n",
       "      <td>Portugal</td>\n",
       "      <td>643113</td>\n",
       "      <td>63070.64</td>\n",
       "      <td>86610</td>\n",
       "      <td>6923</td>\n",
       "      <td>10721</td>\n",
       "      <td>1051.42</td>\n",
       "      <td>1693</td>\n",
       "      <td>252</td>\n",
       "      <td>Clusters of cases</td>\n",
       "    </tr>\n",
       "    <tr>\n",
       "      <th>33</th>\n",
       "      <td>Morocco</td>\n",
       "      <td>466626</td>\n",
       "      <td>12642.07</td>\n",
       "      <td>6482</td>\n",
       "      <td>337</td>\n",
       "      <td>8172</td>\n",
       "      <td>221.40</td>\n",
       "      <td>195</td>\n",
       "      <td>22</td>\n",
       "      <td>Clusters of cases</td>\n",
       "    </tr>\n",
       "  </tbody>\n",
       "</table>\n",
       "</div>"
      ],
      "text/plain": [
       "                  Name  Cases - cumulative total  \\\n",
       "1                India                  10676838   \n",
       "3   Russian Federation                   3756931   \n",
       "7                Italy                   2475372   \n",
       "25            Portugal                    643113   \n",
       "33             Morocco                    466626   \n",
       "\n",
       "    Cases - cumulative total per 1 million population  \\\n",
       "1                                             7736.81   \n",
       "3                                            25743.96   \n",
       "7                                            40941.07   \n",
       "25                                           63070.64   \n",
       "33                                           12642.07   \n",
       "\n",
       "    Cases - newly reported in last 7 days  \\\n",
       "1                                   95001   \n",
       "3                                  144131   \n",
       "7                                   85270   \n",
       "25                                  86610   \n",
       "33                                   6482   \n",
       "\n",
       "    Cases - newly reported in last 24 hours  Deaths - cumulative total  \\\n",
       "1                                      9102                     153587   \n",
       "3                                     18241                      70482   \n",
       "7                                      8559                      85881   \n",
       "25                                     6923                      10721   \n",
       "33                                      337                       8172   \n",
       "\n",
       "    Deaths - cumulative total per 1 million population  \\\n",
       "1                                              111.29    \n",
       "3                                              482.97    \n",
       "7                                             1420.42    \n",
       "25                                            1051.42    \n",
       "33                                             221.40    \n",
       "\n",
       "    Deaths - newly reported in last 7 days  \\\n",
       "1                                     1031   \n",
       "3                                     3859   \n",
       "7                                     3327   \n",
       "25                                    1693   \n",
       "33                                     195   \n",
       "\n",
       "    Deaths - newly reported in last 24 hours Transmission Classification  \n",
       "1                                        117           Clusters of cases  \n",
       "3                                        564           Clusters of cases  \n",
       "7                                        420           Clusters of cases  \n",
       "25                                       252           Clusters of cases  \n",
       "33                                        22           Clusters of cases  "
      ]
     },
     "execution_count": 55,
     "metadata": {},
     "output_type": "execute_result"
    }
   ],
   "source": [
    "cluster.head()"
   ]
  },
  {
   "cell_type": "code",
   "execution_count": 56,
   "metadata": {
    "scrolled": true
   },
   "outputs": [
    {
     "data": {
      "text/plain": [
       "(array([0, 1]), <a list of 2 Text xticklabel objects>)"
      ]
     },
     "execution_count": 56,
     "metadata": {},
     "output_type": "execute_result"
    },
    {
     "data": {
      "image/png": "[encoded data removed]",
      "text/plain": [
       "<Figure size 880.75x720 with 1 Axes>"
      ]
     },
     "metadata": {
      "needs_background": "light"
     },
     "output_type": "display_data"
    }
   ],
   "source": [
    "sns.catplot(x='Transmission Classification',y='Cases - cumulative total',hue='Name',data=data1.head(15),height=10)\n",
    "plt.xticks(rotation=90)"
   ]
  },
  {
   "cell_type": "code",
   "execution_count": 57,
   "metadata": {
    "scrolled": false
   },
   "outputs": [
    {
     "data": {
      "text/html": [
       "<div>\n",
       "<style scoped>\n",
       "    .dataframe tbody tr th:only-of-type {\n",
       "        vertical-align: middle;\n",
       "    }\n",
       "\n",
       "    .dataframe tbody tr th {\n",
       "        vertical-align: top;\n",
       "    }\n",
       "\n",
       "    .dataframe thead th {\n",
       "        text-align: right;\n",
       "    }\n",
       "</style>\n",
       "<table border=\"1\" class=\"dataframe\">\n",
       "  <thead>\n",
       "    <tr style=\"text-align: right;\">\n",
       "      <th></th>\n",
       "      <th>Name</th>\n",
       "      <th>WHO Region</th>\n",
       "      <th>Cases - cumulative total</th>\n",
       "      <th>Cases - cumulative total per 1 million population</th>\n",
       "      <th>Cases - newly reported in last 7 days</th>\n",
       "      <th>Cases - newly reported in last 24 hours</th>\n",
       "      <th>Deaths - cumulative total</th>\n",
       "      <th>Deaths - cumulative total per 1 million population</th>\n",
       "      <th>Deaths - newly reported in last 7 days</th>\n",
       "      <th>Deaths - newly reported in last 24 hours</th>\n",
       "      <th>Transmission Classification</th>\n",
       "    </tr>\n",
       "  </thead>\n",
       "  <tbody>\n",
       "    <tr>\n",
       "      <th>0</th>\n",
       "      <td>United States of America</td>\n",
       "      <td>Americas</td>\n",
       "      <td>24916899</td>\n",
       "      <td>75277.04</td>\n",
       "      <td>1174840</td>\n",
       "      <td>141691</td>\n",
       "      <td>416004</td>\n",
       "      <td>1256.80</td>\n",
       "      <td>21416</td>\n",
       "      <td>1921</td>\n",
       "      <td>Community transmission</td>\n",
       "    </tr>\n",
       "    <tr>\n",
       "      <th>1</th>\n",
       "      <td>India</td>\n",
       "      <td>South-East Asia</td>\n",
       "      <td>10676838</td>\n",
       "      <td>7736.81</td>\n",
       "      <td>95001</td>\n",
       "      <td>9102</td>\n",
       "      <td>153587</td>\n",
       "      <td>111.29</td>\n",
       "      <td>1031</td>\n",
       "      <td>117</td>\n",
       "      <td>Clusters of cases</td>\n",
       "    </tr>\n",
       "    <tr>\n",
       "      <th>2</th>\n",
       "      <td>Brazil</td>\n",
       "      <td>Americas</td>\n",
       "      <td>8844577</td>\n",
       "      <td>41609.90</td>\n",
       "      <td>356478</td>\n",
       "      <td>28323</td>\n",
       "      <td>217037</td>\n",
       "      <td>1021.07</td>\n",
       "      <td>7190</td>\n",
       "      <td>592</td>\n",
       "      <td>Community transmission</td>\n",
       "    </tr>\n",
       "    <tr>\n",
       "      <th>3</th>\n",
       "      <td>Russian Federation</td>\n",
       "      <td>Europe</td>\n",
       "      <td>3756931</td>\n",
       "      <td>25743.96</td>\n",
       "      <td>144131</td>\n",
       "      <td>18241</td>\n",
       "      <td>70482</td>\n",
       "      <td>482.97</td>\n",
       "      <td>3859</td>\n",
       "      <td>564</td>\n",
       "      <td>Clusters of cases</td>\n",
       "    </tr>\n",
       "    <tr>\n",
       "      <th>4</th>\n",
       "      <td>The United Kingdom</td>\n",
       "      <td>Europe</td>\n",
       "      <td>3669662</td>\n",
       "      <td>54056.23</td>\n",
       "      <td>236164</td>\n",
       "      <td>22195</td>\n",
       "      <td>98531</td>\n",
       "      <td>1451.42</td>\n",
       "      <td>8671</td>\n",
       "      <td>592</td>\n",
       "      <td>Community transmission</td>\n",
       "    </tr>\n",
       "  </tbody>\n",
       "</table>\n",
       "</div>"
      ],
      "text/plain": [
       "                       Name       WHO Region  Cases - cumulative total  \\\n",
       "0  United States of America         Americas                  24916899   \n",
       "1                     India  South-East Asia                  10676838   \n",
       "2                    Brazil         Americas                   8844577   \n",
       "3        Russian Federation           Europe                   3756931   \n",
       "4        The United Kingdom           Europe                   3669662   \n",
       "\n",
       "   Cases - cumulative total per 1 million population  \\\n",
       "0                                           75277.04   \n",
       "1                                            7736.81   \n",
       "2                                           41609.90   \n",
       "3                                           25743.96   \n",
       "4                                           54056.23   \n",
       "\n",
       "   Cases - newly reported in last 7 days  \\\n",
       "0                                1174840   \n",
       "1                                  95001   \n",
       "2                                 356478   \n",
       "3                                 144131   \n",
       "4                                 236164   \n",
       "\n",
       "   Cases - newly reported in last 24 hours  Deaths - cumulative total  \\\n",
       "0                                   141691                     416004   \n",
       "1                                     9102                     153587   \n",
       "2                                    28323                     217037   \n",
       "3                                    18241                      70482   \n",
       "4                                    22195                      98531   \n",
       "\n",
       "   Deaths - cumulative total per 1 million population  \\\n",
       "0                                            1256.80    \n",
       "1                                             111.29    \n",
       "2                                            1021.07    \n",
       "3                                             482.97    \n",
       "4                                            1451.42    \n",
       "\n",
       "   Deaths - newly reported in last 7 days  \\\n",
       "0                                   21416   \n",
       "1                                    1031   \n",
       "2                                    7190   \n",
       "3                                    3859   \n",
       "4                                    8671   \n",
       "\n",
       "   Deaths - newly reported in last 24 hours Transmission Classification  \n",
       "0                                      1921      Community transmission  \n",
       "1                                       117           Clusters of cases  \n",
       "2                                       592      Community transmission  \n",
       "3                                       564           Clusters of cases  \n",
       "4                                       592      Community transmission  "
      ]
     },
     "execution_count": 57,
     "metadata": {},
     "output_type": "execute_result"
    }
   ],
   "source": [
    "df.head()"
   ]
  },
  {
   "cell_type": "code",
   "execution_count": 58,
   "metadata": {},
   "outputs": [],
   "source": [
    "filered_data = df.drop(['Name','WHO Region','Cases - cumulative total','Cases - newly reported in last 7 days','Deaths - newly reported in last 7 days'],axis=1)"
   ]
  },
  {
   "cell_type": "code",
   "execution_count": 59,
   "metadata": {
    "scrolled": false
   },
   "outputs": [
    {
     "data": {
      "text/html": [
       "<div>\n",
       "<style scoped>\n",
       "    .dataframe tbody tr th:only-of-type {\n",
       "        vertical-align: middle;\n",
       "    }\n",
       "\n",
       "    .dataframe tbody tr th {\n",
       "        vertical-align: top;\n",
       "    }\n",
       "\n",
       "    .dataframe thead th {\n",
       "        text-align: right;\n",
       "    }\n",
       "</style>\n",
       "<table border=\"1\" class=\"dataframe\">\n",
       "  <thead>\n",
       "    <tr style=\"text-align: right;\">\n",
       "      <th></th>\n",
       "      <th>Cases - cumulative total per 1 million population</th>\n",
       "      <th>Cases - newly reported in last 24 hours</th>\n",
       "      <th>Deaths - cumulative total</th>\n",
       "      <th>Deaths - cumulative total per 1 million population</th>\n",
       "      <th>Deaths - newly reported in last 24 hours</th>\n",
       "      <th>Transmission Classification</th>\n",
       "    </tr>\n",
       "  </thead>\n",
       "  <tbody>\n",
       "    <tr>\n",
       "      <th>0</th>\n",
       "      <td>75277.04</td>\n",
       "      <td>141691</td>\n",
       "      <td>416004</td>\n",
       "      <td>1256.80</td>\n",
       "      <td>1921</td>\n",
       "      <td>Community transmission</td>\n",
       "    </tr>\n",
       "    <tr>\n",
       "      <th>1</th>\n",
       "      <td>7736.81</td>\n",
       "      <td>9102</td>\n",
       "      <td>153587</td>\n",
       "      <td>111.29</td>\n",
       "      <td>117</td>\n",
       "      <td>Clusters of cases</td>\n",
       "    </tr>\n",
       "    <tr>\n",
       "      <th>2</th>\n",
       "      <td>41609.90</td>\n",
       "      <td>28323</td>\n",
       "      <td>217037</td>\n",
       "      <td>1021.07</td>\n",
       "      <td>592</td>\n",
       "      <td>Community transmission</td>\n",
       "    </tr>\n",
       "    <tr>\n",
       "      <th>3</th>\n",
       "      <td>25743.96</td>\n",
       "      <td>18241</td>\n",
       "      <td>70482</td>\n",
       "      <td>482.97</td>\n",
       "      <td>564</td>\n",
       "      <td>Clusters of cases</td>\n",
       "    </tr>\n",
       "    <tr>\n",
       "      <th>4</th>\n",
       "      <td>54056.23</td>\n",
       "      <td>22195</td>\n",
       "      <td>98531</td>\n",
       "      <td>1451.42</td>\n",
       "      <td>592</td>\n",
       "      <td>Community transmission</td>\n",
       "    </tr>\n",
       "  </tbody>\n",
       "</table>\n",
       "</div>"
      ],
      "text/plain": [
       "   Cases - cumulative total per 1 million population  \\\n",
       "0                                           75277.04   \n",
       "1                                            7736.81   \n",
       "2                                           41609.90   \n",
       "3                                           25743.96   \n",
       "4                                           54056.23   \n",
       "\n",
       "   Cases - newly reported in last 24 hours  Deaths - cumulative total  \\\n",
       "0                                   141691                     416004   \n",
       "1                                     9102                     153587   \n",
       "2                                    28323                     217037   \n",
       "3                                    18241                      70482   \n",
       "4                                    22195                      98531   \n",
       "\n",
       "   Deaths - cumulative total per 1 million population  \\\n",
       "0                                            1256.80    \n",
       "1                                             111.29    \n",
       "2                                            1021.07    \n",
       "3                                             482.97    \n",
       "4                                            1451.42    \n",
       "\n",
       "   Deaths - newly reported in last 24 hours Transmission Classification  \n",
       "0                                      1921      Community transmission  \n",
       "1                                       117           Clusters of cases  \n",
       "2                                       592      Community transmission  \n",
       "3                                       564           Clusters of cases  \n",
       "4                                       592      Community transmission  "
      ]
     },
     "execution_count": 59,
     "metadata": {},
     "output_type": "execute_result"
    }
   ],
   "source": [
    "filered_data.head()"
   ]
  },
  {
   "cell_type": "code",
   "execution_count": 110,
   "metadata": {},
   "outputs": [
    {
     "data": {
      "text/plain": [
       "array(['Community transmission'], dtype=object)"
      ]
     },
     "execution_count": 110,
     "metadata": {},
     "output_type": "execute_result"
    }
   ],
   "source": [
    "model.predict([[700,10000,153400,111.29,117]])"
   ]
  },
  {
   "cell_type": "code",
   "execution_count": 61,
   "metadata": {},
   "outputs": [
    {
     "data": {
      "text/plain": [
       "6"
      ]
     },
     "execution_count": 61,
     "metadata": {},
     "output_type": "execute_result"
    }
   ],
   "source": [
    "filered_data['Transmission Classification'].nunique()"
   ]
  },
  {
   "cell_type": "code",
   "execution_count": 68,
   "metadata": {},
   "outputs": [],
   "source": [
    "x= filered_data.iloc[:,0:5]"
   ]
  },
  {
   "cell_type": "code",
   "execution_count": 70,
   "metadata": {},
   "outputs": [],
   "source": [
    "y=filered_data['Transmission Classification']"
   ]
  },
  {
   "cell_type": "code",
   "execution_count": 62,
   "metadata": {},
   "outputs": [],
   "source": [
    "from sklearn.linear_model import LogisticRegression"
   ]
  },
  {
   "cell_type": "code",
   "execution_count": 63,
   "metadata": {},
   "outputs": [],
   "source": [
    "model = LogisticRegression()"
   ]
  },
  {
   "cell_type": "code",
   "execution_count": 71,
   "metadata": {},
   "outputs": [],
   "source": [
    "from sklearn.model_selection import train_test_split\n",
    "x_train,x_test,y_train,y_test = train_test_split(x,y,test_size=0.45,random_state=20)"
   ]
  },
  {
   "cell_type": "code",
   "execution_count": 88,
   "metadata": {},
   "outputs": [
    {
     "ename": "ValueError",
     "evalue": "Input contains NaN, infinity or a value too large for dtype('float64').",
     "output_type": "error",
     "traceback": [
      "\u001b[1;31m---------------------------------------------------------------------------\u001b[0m",
      "\u001b[1;31mValueError\u001b[0m                                Traceback (most recent call last)",
      "\u001b[1;32m<ipython-input-88-4719cf73997a>\u001b[0m in \u001b[0;36m<module>\u001b[1;34m\u001b[0m\n\u001b[1;32m----> 1\u001b[1;33m \u001b[0mmodel\u001b[0m\u001b[1;33m.\u001b[0m\u001b[0mfit\u001b[0m\u001b[1;33m(\u001b[0m\u001b[0mx_train\u001b[0m\u001b[1;33m,\u001b[0m\u001b[0my_train\u001b[0m\u001b[1;33m)\u001b[0m\u001b[1;33m\u001b[0m\u001b[1;33m\u001b[0m\u001b[0m\n\u001b[0m",
      "\u001b[1;32m~\\anaconda3\\lib\\site-packages\\sklearn\\linear_model\\_logistic.py\u001b[0m in \u001b[0;36mfit\u001b[1;34m(self, X, y, sample_weight)\u001b[0m\n\u001b[0;32m   1525\u001b[0m \u001b[1;33m\u001b[0m\u001b[0m\n\u001b[0;32m   1526\u001b[0m         X, y = check_X_y(X, y, accept_sparse='csr', dtype=_dtype, order=\"C\",\n\u001b[1;32m-> 1527\u001b[1;33m                          accept_large_sparse=solver != 'liblinear')\n\u001b[0m\u001b[0;32m   1528\u001b[0m         \u001b[0mcheck_classification_targets\u001b[0m\u001b[1;33m(\u001b[0m\u001b[0my\u001b[0m\u001b[1;33m)\u001b[0m\u001b[1;33m\u001b[0m\u001b[1;33m\u001b[0m\u001b[0m\n\u001b[0;32m   1529\u001b[0m         \u001b[0mself\u001b[0m\u001b[1;33m.\u001b[0m\u001b[0mclasses_\u001b[0m \u001b[1;33m=\u001b[0m \u001b[0mnp\u001b[0m\u001b[1;33m.\u001b[0m\u001b[0munique\u001b[0m\u001b[1;33m(\u001b[0m\u001b[0my\u001b[0m\u001b[1;33m)\u001b[0m\u001b[1;33m\u001b[0m\u001b[1;33m\u001b[0m\u001b[0m\n",
      "\u001b[1;32m~\\anaconda3\\lib\\site-packages\\sklearn\\utils\\validation.py\u001b[0m in \u001b[0;36mcheck_X_y\u001b[1;34m(X, y, accept_sparse, accept_large_sparse, dtype, order, copy, force_all_finite, ensure_2d, allow_nd, multi_output, ensure_min_samples, ensure_min_features, y_numeric, warn_on_dtype, estimator)\u001b[0m\n\u001b[0;32m    753\u001b[0m                     \u001b[0mensure_min_features\u001b[0m\u001b[1;33m=\u001b[0m\u001b[0mensure_min_features\u001b[0m\u001b[1;33m,\u001b[0m\u001b[1;33m\u001b[0m\u001b[1;33m\u001b[0m\u001b[0m\n\u001b[0;32m    754\u001b[0m                     \u001b[0mwarn_on_dtype\u001b[0m\u001b[1;33m=\u001b[0m\u001b[0mwarn_on_dtype\u001b[0m\u001b[1;33m,\u001b[0m\u001b[1;33m\u001b[0m\u001b[1;33m\u001b[0m\u001b[0m\n\u001b[1;32m--> 755\u001b[1;33m                     estimator=estimator)\n\u001b[0m\u001b[0;32m    756\u001b[0m     \u001b[1;32mif\u001b[0m \u001b[0mmulti_output\u001b[0m\u001b[1;33m:\u001b[0m\u001b[1;33m\u001b[0m\u001b[1;33m\u001b[0m\u001b[0m\n\u001b[0;32m    757\u001b[0m         y = check_array(y, 'csr', force_all_finite=True, ensure_2d=False,\n",
      "\u001b[1;32m~\\anaconda3\\lib\\site-packages\\sklearn\\utils\\validation.py\u001b[0m in \u001b[0;36mcheck_array\u001b[1;34m(array, accept_sparse, accept_large_sparse, dtype, order, copy, force_all_finite, ensure_2d, allow_nd, ensure_min_samples, ensure_min_features, warn_on_dtype, estimator)\u001b[0m\n\u001b[0;32m    576\u001b[0m         \u001b[1;32mif\u001b[0m \u001b[0mforce_all_finite\u001b[0m\u001b[1;33m:\u001b[0m\u001b[1;33m\u001b[0m\u001b[1;33m\u001b[0m\u001b[0m\n\u001b[0;32m    577\u001b[0m             _assert_all_finite(array,\n\u001b[1;32m--> 578\u001b[1;33m                                allow_nan=force_all_finite == 'allow-nan')\n\u001b[0m\u001b[0;32m    579\u001b[0m \u001b[1;33m\u001b[0m\u001b[0m\n\u001b[0;32m    580\u001b[0m     \u001b[1;32mif\u001b[0m \u001b[0mensure_min_samples\u001b[0m \u001b[1;33m>\u001b[0m \u001b[1;36m0\u001b[0m\u001b[1;33m:\u001b[0m\u001b[1;33m\u001b[0m\u001b[1;33m\u001b[0m\u001b[0m\n",
      "\u001b[1;32m~\\anaconda3\\lib\\site-packages\\sklearn\\utils\\validation.py\u001b[0m in \u001b[0;36m_assert_all_finite\u001b[1;34m(X, allow_nan, msg_dtype)\u001b[0m\n\u001b[0;32m     58\u001b[0m                     \u001b[0mmsg_err\u001b[0m\u001b[1;33m.\u001b[0m\u001b[0mformat\u001b[0m\u001b[1;33m\u001b[0m\u001b[1;33m\u001b[0m\u001b[0m\n\u001b[0;32m     59\u001b[0m                     (type_err,\n\u001b[1;32m---> 60\u001b[1;33m                      msg_dtype if msg_dtype is not None else X.dtype)\n\u001b[0m\u001b[0;32m     61\u001b[0m             )\n\u001b[0;32m     62\u001b[0m     \u001b[1;31m# for object dtype data, we only check for NaNs (GH-13254)\u001b[0m\u001b[1;33m\u001b[0m\u001b[1;33m\u001b[0m\u001b[1;33m\u001b[0m\u001b[0m\n",
      "\u001b[1;31mValueError\u001b[0m: Input contains NaN, infinity or a value too large for dtype('float64')."
     ]
    }
   ],
   "source": [
    "model.fit(x_train,y_train)"
   ]
  },
  {
   "cell_type": "code",
   "execution_count": 74,
   "metadata": {
    "scrolled": true
   },
   "outputs": [
    {
     "data": {
      "text/plain": [
       "Cases - cumulative total per 1 million population     237\n",
       "Cases - newly reported in last 24 hours               237\n",
       "Deaths - cumulative total                             237\n",
       "Deaths - cumulative total per 1 million population    237\n",
       "Deaths - newly reported in last 24 hours              237\n",
       "Transmission Classification                           237\n",
       "dtype: int64"
      ]
     },
     "execution_count": 74,
     "metadata": {},
     "output_type": "execute_result"
    }
   ],
   "source": [
    "filered_data.isnull().count()"
   ]
  },
  {
   "cell_type": "code",
   "execution_count": 77,
   "metadata": {
    "scrolled": true
   },
   "outputs": [
    {
     "data": {
      "text/html": [
       "<div>\n",
       "<style scoped>\n",
       "    .dataframe tbody tr th:only-of-type {\n",
       "        vertical-align: middle;\n",
       "    }\n",
       "\n",
       "    .dataframe tbody tr th {\n",
       "        vertical-align: top;\n",
       "    }\n",
       "\n",
       "    .dataframe thead th {\n",
       "        text-align: right;\n",
       "    }\n",
       "</style>\n",
       "<table border=\"1\" class=\"dataframe\">\n",
       "  <thead>\n",
       "    <tr style=\"text-align: right;\">\n",
       "      <th></th>\n",
       "      <th>Cases - cumulative total per 1 million population</th>\n",
       "      <th>Cases - newly reported in last 24 hours</th>\n",
       "      <th>Deaths - cumulative total</th>\n",
       "      <th>Deaths - cumulative total per 1 million population</th>\n",
       "      <th>Deaths - newly reported in last 24 hours</th>\n",
       "      <th>Transmission Classification</th>\n",
       "    </tr>\n",
       "  </thead>\n",
       "  <tbody>\n",
       "    <tr>\n",
       "      <th>188</th>\n",
       "      <td>NaN</td>\n",
       "      <td>0</td>\n",
       "      <td>13</td>\n",
       "      <td>NaN</td>\n",
       "      <td>0</td>\n",
       "      <td>Not applicable</td>\n",
       "    </tr>\n",
       "  </tbody>\n",
       "</table>\n",
       "</div>"
      ],
      "text/plain": [
       "     Cases - cumulative total per 1 million population  \\\n",
       "188                                                NaN   \n",
       "\n",
       "     Cases - newly reported in last 24 hours  Deaths - cumulative total  \\\n",
       "188                                        0                         13   \n",
       "\n",
       "     Deaths - cumulative total per 1 million population  \\\n",
       "188                                                NaN    \n",
       "\n",
       "     Deaths - newly reported in last 24 hours Transmission Classification  \n",
       "188                                         0              Not applicable  "
      ]
     },
     "execution_count": 77,
     "metadata": {},
     "output_type": "execute_result"
    }
   ],
   "source": [
    "filered_data[filered_data['Cases - cumulative total per 1 million population'].isnull()]"
   ]
  },
  {
   "cell_type": "code",
   "execution_count": 85,
   "metadata": {
    "scrolled": true
   },
   "outputs": [],
   "source": [
    "filered_data.dropna(inplace=True)"
   ]
  },
  {
   "cell_type": "code",
   "execution_count": 86,
   "metadata": {},
   "outputs": [
    {
     "data": {
      "text/plain": [
       "Cases - cumulative total per 1 million population     236\n",
       "Cases - newly reported in last 24 hours               236\n",
       "Deaths - cumulative total                             236\n",
       "Deaths - cumulative total per 1 million population    236\n",
       "Deaths - newly reported in last 24 hours              236\n",
       "Transmission Classification                           236\n",
       "dtype: int64"
      ]
     },
     "execution_count": 86,
     "metadata": {},
     "output_type": "execute_result"
    }
   ],
   "source": [
    "filered_data.isnull().count()"
   ]
  },
  {
   "cell_type": "code",
   "execution_count": 87,
   "metadata": {},
   "outputs": [
    {
     "data": {
      "text/html": [
       "<div>\n",
       "<style scoped>\n",
       "    .dataframe tbody tr th:only-of-type {\n",
       "        vertical-align: middle;\n",
       "    }\n",
       "\n",
       "    .dataframe tbody tr th {\n",
       "        vertical-align: top;\n",
       "    }\n",
       "\n",
       "    .dataframe thead th {\n",
       "        text-align: right;\n",
       "    }\n",
       "</style>\n",
       "<table border=\"1\" class=\"dataframe\">\n",
       "  <thead>\n",
       "    <tr style=\"text-align: right;\">\n",
       "      <th></th>\n",
       "      <th>Cases - cumulative total per 1 million population</th>\n",
       "      <th>Cases - newly reported in last 24 hours</th>\n",
       "      <th>Deaths - cumulative total</th>\n",
       "      <th>Deaths - cumulative total per 1 million population</th>\n",
       "      <th>Deaths - newly reported in last 24 hours</th>\n",
       "      <th>Transmission Classification</th>\n",
       "    </tr>\n",
       "  </thead>\n",
       "  <tbody>\n",
       "  </tbody>\n",
       "</table>\n",
       "</div>"
      ],
      "text/plain": [
       "Empty DataFrame\n",
       "Columns: [Cases - cumulative total per 1 million population, Cases - newly reported in last 24 hours, Deaths - cumulative total, Deaths - cumulative total per 1 million population, Deaths - newly reported in last 24 hours, Transmission Classification]\n",
       "Index: []"
      ]
     },
     "execution_count": 87,
     "metadata": {},
     "output_type": "execute_result"
    }
   ],
   "source": [
    "filered_data[filered_data['Cases - cumulative total per 1 million population'].isnull()]"
   ]
  },
  {
   "cell_type": "code",
   "execution_count": 93,
   "metadata": {},
   "outputs": [
    {
     "data": {
      "text/html": [
       "<div>\n",
       "<style scoped>\n",
       "    .dataframe tbody tr th:only-of-type {\n",
       "        vertical-align: middle;\n",
       "    }\n",
       "\n",
       "    .dataframe tbody tr th {\n",
       "        vertical-align: top;\n",
       "    }\n",
       "\n",
       "    .dataframe thead th {\n",
       "        text-align: right;\n",
       "    }\n",
       "</style>\n",
       "<table border=\"1\" class=\"dataframe\">\n",
       "  <thead>\n",
       "    <tr style=\"text-align: right;\">\n",
       "      <th></th>\n",
       "      <th>Cases - cumulative total per 1 million population</th>\n",
       "      <th>Cases - newly reported in last 24 hours</th>\n",
       "      <th>Deaths - cumulative total</th>\n",
       "      <th>Deaths - cumulative total per 1 million population</th>\n",
       "      <th>Deaths - newly reported in last 24 hours</th>\n",
       "      <th>Transmission Classification</th>\n",
       "    </tr>\n",
       "  </thead>\n",
       "  <tbody>\n",
       "  </tbody>\n",
       "</table>\n",
       "</div>"
      ],
      "text/plain": [
       "Empty DataFrame\n",
       "Columns: [Cases - cumulative total per 1 million population, Cases - newly reported in last 24 hours, Deaths - cumulative total, Deaths - cumulative total per 1 million population, Deaths - newly reported in last 24 hours, Transmission Classification]\n",
       "Index: []"
      ]
     },
     "execution_count": 93,
     "metadata": {},
     "output_type": "execute_result"
    }
   ],
   "source": [
    "filered_data[filered_data['Cases - newly reported in last 24 hours'].isnull()]"
   ]
  },
  {
   "cell_type": "code",
   "execution_count": 90,
   "metadata": {},
   "outputs": [],
   "source": [
    "from sklearn.preprocessing import MinMaxScaler\n",
    "\n",
    "apply_min = MinMaxScaler().fit(x_train)\n",
    "\n",
    "x_train_norm = apply_min.transform(x_train)\n",
    "\n",
    "x_test_norm = apply_min.transform(x_test)"
   ]
  },
  {
   "cell_type": "code",
   "execution_count": 91,
   "metadata": {},
   "outputs": [],
   "source": [
    "from sklearn.preprocessing import StandardScaler\n",
    "\n",
    "apply_standard = StandardScaler().fit(x_train)\n",
    "\n",
    "x_train_standard = apply_standard.transform(x_train)\n",
    "\n",
    "x_test_standard = apply_standard.transform(x_test)"
   ]
  },
  {
   "cell_type": "code",
   "execution_count": 94,
   "metadata": {},
   "outputs": [],
   "source": [
    "from sklearn.tree import DecisionTreeClassifier"
   ]
  },
  {
   "cell_type": "code",
   "execution_count": 97,
   "metadata": {},
   "outputs": [
    {
     "name": "stderr",
     "output_type": "stream",
     "text": [
      "C:\\Users\\divit\\anaconda3\\lib\\site-packages\\pandas\\core\\generic.py:6245: SettingWithCopyWarning: \n",
      "A value is trying to be set on a copy of a slice from a DataFrame\n",
      "\n",
      "See the caveats in the documentation: https://pandas.pydata.org/pandas-docs/stable/user_guide/indexing.html#returning-a-view-versus-a-copy\n",
      "  self._update_inplace(new_data)\n"
     ]
    }
   ],
   "source": [
    "x_train.fillna(x_train.mean(), inplace=True)"
   ]
  },
  {
   "cell_type": "code",
   "execution_count": 98,
   "metadata": {},
   "outputs": [],
   "source": [
    "model = DecisionTreeClassifier(max_depth=2).fit(x_train,y_train)"
   ]
  },
  {
   "cell_type": "code",
   "execution_count": 99,
   "metadata": {},
   "outputs": [],
   "source": [
    "from sklearn.metrics import mean_absolute_error,accuracy_score\n"
   ]
  },
  {
   "cell_type": "code",
   "execution_count": 100,
   "metadata": {},
   "outputs": [],
   "source": [
    "preds = model.predict(x_test)"
   ]
  },
  {
   "cell_type": "code",
   "execution_count": 102,
   "metadata": {},
   "outputs": [
    {
     "data": {
      "text/plain": [
       "array(['Community transmission', 'Sporadic cases',\n",
       "       'Community transmission', 'Community transmission',\n",
       "       'Community transmission', 'Community transmission',\n",
       "       'Community transmission', 'Sporadic cases',\n",
       "       'Community transmission', 'Community transmission',\n",
       "       'Community transmission', 'Community transmission', 'No cases',\n",
       "       'Community transmission', 'Community transmission',\n",
       "       'Community transmission', 'Community transmission',\n",
       "       'Sporadic cases', 'Community transmission',\n",
       "       'Community transmission', 'Community transmission',\n",
       "       'Community transmission', 'Community transmission',\n",
       "       'Community transmission', 'Community transmission',\n",
       "       'Community transmission', 'Community transmission',\n",
       "       'Community transmission', 'Community transmission',\n",
       "       'Community transmission', 'No cases', 'Community transmission',\n",
       "       'Community transmission', 'Community transmission',\n",
       "       'Community transmission', 'Sporadic cases',\n",
       "       'Community transmission', 'Community transmission',\n",
       "       'Community transmission', 'Community transmission',\n",
       "       'Sporadic cases', 'No cases', 'Community transmission',\n",
       "       'Community transmission', 'Sporadic cases', 'Sporadic cases',\n",
       "       'Community transmission', 'Community transmission',\n",
       "       'Community transmission', 'Community transmission',\n",
       "       'Community transmission', 'Community transmission',\n",
       "       'Community transmission', 'No cases', 'Community transmission',\n",
       "       'Sporadic cases', 'Community transmission', 'Clusters of cases',\n",
       "       'Community transmission', 'Community transmission',\n",
       "       'Community transmission', 'Community transmission',\n",
       "       'Community transmission', 'Community transmission',\n",
       "       'Community transmission', 'Community transmission',\n",
       "       'Sporadic cases', 'Sporadic cases', 'Sporadic cases',\n",
       "       'Community transmission', 'Community transmission',\n",
       "       'Community transmission', 'Sporadic cases',\n",
       "       'Community transmission', 'Community transmission',\n",
       "       'Community transmission', 'Community transmission',\n",
       "       'Community transmission', 'Community transmission',\n",
       "       'Community transmission', 'Community transmission',\n",
       "       'Community transmission', 'Community transmission', 'No cases',\n",
       "       'Community transmission', 'Community transmission',\n",
       "       'Community transmission', 'Sporadic cases',\n",
       "       'Community transmission', 'Community transmission',\n",
       "       'Community transmission', 'Community transmission',\n",
       "       'Community transmission', 'Community transmission',\n",
       "       'Community transmission', 'Community transmission',\n",
       "       'Community transmission', 'Community transmission',\n",
       "       'Sporadic cases', 'Community transmission',\n",
       "       'Community transmission', 'Community transmission',\n",
       "       'Community transmission', 'Community transmission',\n",
       "       'Community transmission', 'Sporadic cases',\n",
       "       'Community transmission'], dtype=object)"
      ]
     },
     "execution_count": 102,
     "metadata": {},
     "output_type": "execute_result"
    }
   ],
   "source": [
    "preds"
   ]
  },
  {
   "cell_type": "code",
   "execution_count": 103,
   "metadata": {},
   "outputs": [
    {
     "data": {
      "text/plain": [
       "0.6635514018691588"
      ]
     },
     "execution_count": 103,
     "metadata": {},
     "output_type": "execute_result"
    }
   ],
   "source": [
    "accuracy_score(preds,y_test)"
   ]
  },
  {
   "cell_type": "code",
   "execution_count": 114,
   "metadata": {},
   "outputs": [
    {
     "data": {
      "text/plain": [
       "Cases - cumulative total per 1 million population     134\n",
       "Cases - newly reported in last 24 hours               134\n",
       "Deaths - cumulative total                             134\n",
       "Deaths - cumulative total per 1 million population    134\n",
       "Deaths - newly reported in last 24 hours              134\n",
       "Transmission Classification                           134\n",
       "dtype: int64"
      ]
     },
     "execution_count": 114,
     "metadata": {},
     "output_type": "execute_result"
    }
   ],
   "source": [
    "filered_data[filered_data['Transmission Classification']=='Community transmission'].count()"
   ]
  },
  {
   "cell_type": "code",
   "execution_count": null,
   "metadata": {},
   "outputs": [],
   "source": []
  }
 ],
 "metadata": {
  "kernelspec": {
   "display_name": "Python 3",
   "language": "python",
   "name": "python3"
  },
  "language_info": {
   "codemirror_mode": {
    "name": "ipython",
    "version": 3
   },
   "file_extension": ".py",
   "mimetype": "text/x-python",
   "name": "python",
   "nbconvert_exporter": "python",
   "pygments_lexer": "ipython3",
   "version": "3.7.6"
  }
 },
 "nbformat": 4,
 "nbformat_minor": 4
}
