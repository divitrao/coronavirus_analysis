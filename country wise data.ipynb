{
 "cells": [
  {
   "cell_type": "code",
   "execution_count": 1,
   "metadata": {},
   "outputs": [],
   "source": [
    "import pandas as pd\n"
   ]
  },
  {
   "cell_type": "code",
   "execution_count": 2,
   "metadata": {
    "scrolled": true
   },
   "outputs": [
    {
     "data": {
      "text/html": [
       "<div>\n",
       "<style scoped>\n",
       "    .dataframe tbody tr th:only-of-type {\n",
       "        vertical-align: middle;\n",
       "    }\n",
       "\n",
       "    .dataframe tbody tr th {\n",
       "        vertical-align: top;\n",
       "    }\n",
       "\n",
       "    .dataframe thead th {\n",
       "        text-align: right;\n",
       "    }\n",
       "</style>\n",
       "<table border=\"1\" class=\"dataframe\">\n",
       "  <thead>\n",
       "    <tr style=\"text-align: right;\">\n",
       "      <th></th>\n",
       "      <th>Name</th>\n",
       "      <th>WHO Region</th>\n",
       "      <th>Cases - cumulative total</th>\n",
       "      <th>Cases - cumulative total per 1 million population</th>\n",
       "      <th>Cases - newly reported in last 7 days</th>\n",
       "      <th>Cases - newly reported in last 24 hours</th>\n",
       "      <th>Deaths - cumulative total</th>\n",
       "      <th>Deaths - cumulative total per 1 million population</th>\n",
       "      <th>Deaths - newly reported in last 7 days</th>\n",
       "      <th>Deaths - newly reported in last 24 hours</th>\n",
       "      <th>Transmission Classification</th>\n",
       "    </tr>\n",
       "  </thead>\n",
       "  <tbody>\n",
       "    <tr>\n",
       "      <th>0</th>\n",
       "      <td>Global</td>\n",
       "      <td>NaN</td>\n",
       "      <td>90759370</td>\n",
       "      <td>11626.410214</td>\n",
       "      <td>5110761</td>\n",
       "      <td>670774</td>\n",
       "      <td>1963169</td>\n",
       "      <td>251.484867</td>\n",
       "      <td>92305</td>\n",
       "      <td>15833</td>\n",
       "      <td>NaN</td>\n",
       "    </tr>\n",
       "    <tr>\n",
       "      <th>1</th>\n",
       "      <td>United States of America</td>\n",
       "      <td>Americas</td>\n",
       "      <td>22645757</td>\n",
       "      <td>68415.640000</td>\n",
       "      <td>1774844</td>\n",
       "      <td>217166</td>\n",
       "      <td>377446</td>\n",
       "      <td>1140.310000</td>\n",
       "      <td>23160</td>\n",
       "      <td>4117</td>\n",
       "      <td>Community transmission</td>\n",
       "    </tr>\n",
       "    <tr>\n",
       "      <th>2</th>\n",
       "      <td>India</td>\n",
       "      <td>South-East Asia</td>\n",
       "      <td>10512093</td>\n",
       "      <td>7617.430000</td>\n",
       "      <td>116815</td>\n",
       "      <td>16946</td>\n",
       "      <td>151727</td>\n",
       "      <td>109.950000</td>\n",
       "      <td>1391</td>\n",
       "      <td>198</td>\n",
       "      <td>Clusters of cases</td>\n",
       "    </tr>\n",
       "    <tr>\n",
       "      <th>3</th>\n",
       "      <td>Brazil</td>\n",
       "      <td>Americas</td>\n",
       "      <td>8195637</td>\n",
       "      <td>38556.920000</td>\n",
       "      <td>385237</td>\n",
       "      <td>64025</td>\n",
       "      <td>204690</td>\n",
       "      <td>962.980000</td>\n",
       "      <td>6958</td>\n",
       "      <td>1110</td>\n",
       "      <td>Community transmission</td>\n",
       "    </tr>\n",
       "    <tr>\n",
       "      <th>4</th>\n",
       "      <td>Russian Federation</td>\n",
       "      <td>Europe</td>\n",
       "      <td>3471053</td>\n",
       "      <td>23785.010000</td>\n",
       "      <td>162452</td>\n",
       "      <td>22850</td>\n",
       "      <td>63370</td>\n",
       "      <td>434.240000</td>\n",
       "      <td>3419</td>\n",
       "      <td>566</td>\n",
       "      <td>Clusters of cases</td>\n",
       "    </tr>\n",
       "  </tbody>\n",
       "</table>\n",
       "</div>"
      ],
      "text/plain": [
       "                       Name       WHO Region  Cases - cumulative total  \\\n",
       "0                    Global              NaN                  90759370   \n",
       "1  United States of America         Americas                  22645757   \n",
       "2                     India  South-East Asia                  10512093   \n",
       "3                    Brazil         Americas                   8195637   \n",
       "4        Russian Federation           Europe                   3471053   \n",
       "\n",
       "   Cases - cumulative total per 1 million population  \\\n",
       "0                                       11626.410214   \n",
       "1                                       68415.640000   \n",
       "2                                        7617.430000   \n",
       "3                                       38556.920000   \n",
       "4                                       23785.010000   \n",
       "\n",
       "   Cases - newly reported in last 7 days  \\\n",
       "0                                5110761   \n",
       "1                                1774844   \n",
       "2                                 116815   \n",
       "3                                 385237   \n",
       "4                                 162452   \n",
       "\n",
       "   Cases - newly reported in last 24 hours  Deaths - cumulative total  \\\n",
       "0                                   670774                    1963169   \n",
       "1                                   217166                     377446   \n",
       "2                                    16946                     151727   \n",
       "3                                    64025                     204690   \n",
       "4                                    22850                      63370   \n",
       "\n",
       "   Deaths - cumulative total per 1 million population  \\\n",
       "0                                         251.484867    \n",
       "1                                        1140.310000    \n",
       "2                                         109.950000    \n",
       "3                                         962.980000    \n",
       "4                                         434.240000    \n",
       "\n",
       "   Deaths - newly reported in last 7 days  \\\n",
       "0                                   92305   \n",
       "1                                   23160   \n",
       "2                                    1391   \n",
       "3                                    6958   \n",
       "4                                    3419   \n",
       "\n",
       "   Deaths - newly reported in last 24 hours Transmission Classification  \n",
       "0                                     15833                         NaN  \n",
       "1                                      4117      Community transmission  \n",
       "2                                       198           Clusters of cases  \n",
       "3                                      1110      Community transmission  \n",
       "4                                       566           Clusters of cases  "
      ]
     },
     "execution_count": 2,
     "metadata": {},
     "output_type": "execute_result"
    }
   ],
   "source": [
    "df = pd.read_csv('who.csv')\n",
    "df.head()"
   ]
  },
  {
   "cell_type": "code",
   "execution_count": 3,
   "metadata": {},
   "outputs": [],
   "source": [
    "df.drop(axis=0,inplace=True,index=0)"
   ]
  },
  {
   "cell_type": "code",
   "execution_count": 4,
   "metadata": {},
   "outputs": [
    {
     "data": {
      "text/html": [
       "<div>\n",
       "<style scoped>\n",
       "    .dataframe tbody tr th:only-of-type {\n",
       "        vertical-align: middle;\n",
       "    }\n",
       "\n",
       "    .dataframe tbody tr th {\n",
       "        vertical-align: top;\n",
       "    }\n",
       "\n",
       "    .dataframe thead th {\n",
       "        text-align: right;\n",
       "    }\n",
       "</style>\n",
       "<table border=\"1\" class=\"dataframe\">\n",
       "  <thead>\n",
       "    <tr style=\"text-align: right;\">\n",
       "      <th></th>\n",
       "      <th>Name</th>\n",
       "      <th>WHO Region</th>\n",
       "      <th>Cases - cumulative total</th>\n",
       "      <th>Cases - cumulative total per 1 million population</th>\n",
       "      <th>Cases - newly reported in last 7 days</th>\n",
       "      <th>Cases - newly reported in last 24 hours</th>\n",
       "      <th>Deaths - cumulative total</th>\n",
       "      <th>Deaths - cumulative total per 1 million population</th>\n",
       "      <th>Deaths - newly reported in last 7 days</th>\n",
       "      <th>Deaths - newly reported in last 24 hours</th>\n",
       "      <th>Transmission Classification</th>\n",
       "    </tr>\n",
       "  </thead>\n",
       "  <tbody>\n",
       "    <tr>\n",
       "      <th>1</th>\n",
       "      <td>United States of America</td>\n",
       "      <td>Americas</td>\n",
       "      <td>22645757</td>\n",
       "      <td>68415.64</td>\n",
       "      <td>1774844</td>\n",
       "      <td>217166</td>\n",
       "      <td>377446</td>\n",
       "      <td>1140.31</td>\n",
       "      <td>23160</td>\n",
       "      <td>4117</td>\n",
       "      <td>Community transmission</td>\n",
       "    </tr>\n",
       "    <tr>\n",
       "      <th>2</th>\n",
       "      <td>India</td>\n",
       "      <td>South-East Asia</td>\n",
       "      <td>10512093</td>\n",
       "      <td>7617.43</td>\n",
       "      <td>116815</td>\n",
       "      <td>16946</td>\n",
       "      <td>151727</td>\n",
       "      <td>109.95</td>\n",
       "      <td>1391</td>\n",
       "      <td>198</td>\n",
       "      <td>Clusters of cases</td>\n",
       "    </tr>\n",
       "    <tr>\n",
       "      <th>3</th>\n",
       "      <td>Brazil</td>\n",
       "      <td>Americas</td>\n",
       "      <td>8195637</td>\n",
       "      <td>38556.92</td>\n",
       "      <td>385237</td>\n",
       "      <td>64025</td>\n",
       "      <td>204690</td>\n",
       "      <td>962.98</td>\n",
       "      <td>6958</td>\n",
       "      <td>1110</td>\n",
       "      <td>Community transmission</td>\n",
       "    </tr>\n",
       "    <tr>\n",
       "      <th>4</th>\n",
       "      <td>Russian Federation</td>\n",
       "      <td>Europe</td>\n",
       "      <td>3471053</td>\n",
       "      <td>23785.01</td>\n",
       "      <td>162452</td>\n",
       "      <td>22850</td>\n",
       "      <td>63370</td>\n",
       "      <td>434.24</td>\n",
       "      <td>3419</td>\n",
       "      <td>566</td>\n",
       "      <td>Clusters of cases</td>\n",
       "    </tr>\n",
       "    <tr>\n",
       "      <th>5</th>\n",
       "      <td>The United Kingdom</td>\n",
       "      <td>Europe</td>\n",
       "      <td>3164055</td>\n",
       "      <td>46608.35</td>\n",
       "      <td>389572</td>\n",
       "      <td>45533</td>\n",
       "      <td>83203</td>\n",
       "      <td>1225.63</td>\n",
       "      <td>6898</td>\n",
       "      <td>1243</td>\n",
       "      <td>Community transmission</td>\n",
       "    </tr>\n",
       "  </tbody>\n",
       "</table>\n",
       "</div>"
      ],
      "text/plain": [
       "                       Name       WHO Region  Cases - cumulative total  \\\n",
       "1  United States of America         Americas                  22645757   \n",
       "2                     India  South-East Asia                  10512093   \n",
       "3                    Brazil         Americas                   8195637   \n",
       "4        Russian Federation           Europe                   3471053   \n",
       "5        The United Kingdom           Europe                   3164055   \n",
       "\n",
       "   Cases - cumulative total per 1 million population  \\\n",
       "1                                           68415.64   \n",
       "2                                            7617.43   \n",
       "3                                           38556.92   \n",
       "4                                           23785.01   \n",
       "5                                           46608.35   \n",
       "\n",
       "   Cases - newly reported in last 7 days  \\\n",
       "1                                1774844   \n",
       "2                                 116815   \n",
       "3                                 385237   \n",
       "4                                 162452   \n",
       "5                                 389572   \n",
       "\n",
       "   Cases - newly reported in last 24 hours  Deaths - cumulative total  \\\n",
       "1                                   217166                     377446   \n",
       "2                                    16946                     151727   \n",
       "3                                    64025                     204690   \n",
       "4                                    22850                      63370   \n",
       "5                                    45533                      83203   \n",
       "\n",
       "   Deaths - cumulative total per 1 million population  \\\n",
       "1                                            1140.31    \n",
       "2                                             109.95    \n",
       "3                                             962.98    \n",
       "4                                             434.24    \n",
       "5                                            1225.63    \n",
       "\n",
       "   Deaths - newly reported in last 7 days  \\\n",
       "1                                   23160   \n",
       "2                                    1391   \n",
       "3                                    6958   \n",
       "4                                    3419   \n",
       "5                                    6898   \n",
       "\n",
       "   Deaths - newly reported in last 24 hours Transmission Classification  \n",
       "1                                      4117      Community transmission  \n",
       "2                                       198           Clusters of cases  \n",
       "3                                      1110      Community transmission  \n",
       "4                                       566           Clusters of cases  \n",
       "5                                      1243      Community transmission  "
      ]
     },
     "execution_count": 4,
     "metadata": {},
     "output_type": "execute_result"
    }
   ],
   "source": [
    "df.head()"
   ]
  },
  {
   "cell_type": "code",
   "execution_count": 9,
   "metadata": {},
   "outputs": [],
   "source": [
    "df.reset_index(inplace=True,drop=True)"
   ]
  },
  {
   "cell_type": "code",
   "execution_count": 10,
   "metadata": {},
   "outputs": [
    {
     "data": {
      "text/html": [
       "<div>\n",
       "<style scoped>\n",
       "    .dataframe tbody tr th:only-of-type {\n",
       "        vertical-align: middle;\n",
       "    }\n",
       "\n",
       "    .dataframe tbody tr th {\n",
       "        vertical-align: top;\n",
       "    }\n",
       "\n",
       "    .dataframe thead th {\n",
       "        text-align: right;\n",
       "    }\n",
       "</style>\n",
       "<table border=\"1\" class=\"dataframe\">\n",
       "  <thead>\n",
       "    <tr style=\"text-align: right;\">\n",
       "      <th></th>\n",
       "      <th>index</th>\n",
       "      <th>Name</th>\n",
       "      <th>WHO Region</th>\n",
       "      <th>Cases - cumulative total</th>\n",
       "      <th>Cases - cumulative total per 1 million population</th>\n",
       "      <th>Cases - newly reported in last 7 days</th>\n",
       "      <th>Cases - newly reported in last 24 hours</th>\n",
       "      <th>Deaths - cumulative total</th>\n",
       "      <th>Deaths - cumulative total per 1 million population</th>\n",
       "      <th>Deaths - newly reported in last 7 days</th>\n",
       "      <th>Deaths - newly reported in last 24 hours</th>\n",
       "      <th>Transmission Classification</th>\n",
       "    </tr>\n",
       "  </thead>\n",
       "  <tbody>\n",
       "    <tr>\n",
       "      <th>0</th>\n",
       "      <td>1</td>\n",
       "      <td>United States of America</td>\n",
       "      <td>Americas</td>\n",
       "      <td>22645757</td>\n",
       "      <td>68415.64</td>\n",
       "      <td>1774844</td>\n",
       "      <td>217166</td>\n",
       "      <td>377446</td>\n",
       "      <td>1140.31</td>\n",
       "      <td>23160</td>\n",
       "      <td>4117</td>\n",
       "      <td>Community transmission</td>\n",
       "    </tr>\n",
       "    <tr>\n",
       "      <th>1</th>\n",
       "      <td>2</td>\n",
       "      <td>India</td>\n",
       "      <td>South-East Asia</td>\n",
       "      <td>10512093</td>\n",
       "      <td>7617.43</td>\n",
       "      <td>116815</td>\n",
       "      <td>16946</td>\n",
       "      <td>151727</td>\n",
       "      <td>109.95</td>\n",
       "      <td>1391</td>\n",
       "      <td>198</td>\n",
       "      <td>Clusters of cases</td>\n",
       "    </tr>\n",
       "    <tr>\n",
       "      <th>2</th>\n",
       "      <td>3</td>\n",
       "      <td>Brazil</td>\n",
       "      <td>Americas</td>\n",
       "      <td>8195637</td>\n",
       "      <td>38556.92</td>\n",
       "      <td>385237</td>\n",
       "      <td>64025</td>\n",
       "      <td>204690</td>\n",
       "      <td>962.98</td>\n",
       "      <td>6958</td>\n",
       "      <td>1110</td>\n",
       "      <td>Community transmission</td>\n",
       "    </tr>\n",
       "    <tr>\n",
       "      <th>3</th>\n",
       "      <td>4</td>\n",
       "      <td>Russian Federation</td>\n",
       "      <td>Europe</td>\n",
       "      <td>3471053</td>\n",
       "      <td>23785.01</td>\n",
       "      <td>162452</td>\n",
       "      <td>22850</td>\n",
       "      <td>63370</td>\n",
       "      <td>434.24</td>\n",
       "      <td>3419</td>\n",
       "      <td>566</td>\n",
       "      <td>Clusters of cases</td>\n",
       "    </tr>\n",
       "    <tr>\n",
       "      <th>4</th>\n",
       "      <td>5</td>\n",
       "      <td>The United Kingdom</td>\n",
       "      <td>Europe</td>\n",
       "      <td>3164055</td>\n",
       "      <td>46608.35</td>\n",
       "      <td>389572</td>\n",
       "      <td>45533</td>\n",
       "      <td>83203</td>\n",
       "      <td>1225.63</td>\n",
       "      <td>6898</td>\n",
       "      <td>1243</td>\n",
       "      <td>Community transmission</td>\n",
       "    </tr>\n",
       "  </tbody>\n",
       "</table>\n",
       "</div>"
      ],
      "text/plain": [
       "   index                      Name       WHO Region  Cases - cumulative total  \\\n",
       "0      1  United States of America         Americas                  22645757   \n",
       "1      2                     India  South-East Asia                  10512093   \n",
       "2      3                    Brazil         Americas                   8195637   \n",
       "3      4        Russian Federation           Europe                   3471053   \n",
       "4      5        The United Kingdom           Europe                   3164055   \n",
       "\n",
       "   Cases - cumulative total per 1 million population  \\\n",
       "0                                           68415.64   \n",
       "1                                            7617.43   \n",
       "2                                           38556.92   \n",
       "3                                           23785.01   \n",
       "4                                           46608.35   \n",
       "\n",
       "   Cases - newly reported in last 7 days  \\\n",
       "0                                1774844   \n",
       "1                                 116815   \n",
       "2                                 385237   \n",
       "3                                 162452   \n",
       "4                                 389572   \n",
       "\n",
       "   Cases - newly reported in last 24 hours  Deaths - cumulative total  \\\n",
       "0                                   217166                     377446   \n",
       "1                                    16946                     151727   \n",
       "2                                    64025                     204690   \n",
       "3                                    22850                      63370   \n",
       "4                                    45533                      83203   \n",
       "\n",
       "   Deaths - cumulative total per 1 million population  \\\n",
       "0                                            1140.31    \n",
       "1                                             109.95    \n",
       "2                                             962.98    \n",
       "3                                             434.24    \n",
       "4                                            1225.63    \n",
       "\n",
       "   Deaths - newly reported in last 7 days  \\\n",
       "0                                   23160   \n",
       "1                                    1391   \n",
       "2                                    6958   \n",
       "3                                    3419   \n",
       "4                                    6898   \n",
       "\n",
       "   Deaths - newly reported in last 24 hours Transmission Classification  \n",
       "0                                      4117      Community transmission  \n",
       "1                                       198           Clusters of cases  \n",
       "2                                      1110      Community transmission  \n",
       "3                                       566           Clusters of cases  \n",
       "4                                      1243      Community transmission  "
      ]
     },
     "execution_count": 10,
     "metadata": {},
     "output_type": "execute_result"
    }
   ],
   "source": [
    "df.head()"
   ]
  },
  {
   "cell_type": "code",
   "execution_count": 12,
   "metadata": {},
   "outputs": [],
   "source": [
    "df.drop('index',axis=1,inplace=True)"
   ]
  },
  {
   "cell_type": "code",
   "execution_count": 13,
   "metadata": {
    "scrolled": true
   },
   "outputs": [
    {
     "data": {
      "text/html": [
       "<div>\n",
       "<style scoped>\n",
       "    .dataframe tbody tr th:only-of-type {\n",
       "        vertical-align: middle;\n",
       "    }\n",
       "\n",
       "    .dataframe tbody tr th {\n",
       "        vertical-align: top;\n",
       "    }\n",
       "\n",
       "    .dataframe thead th {\n",
       "        text-align: right;\n",
       "    }\n",
       "</style>\n",
       "<table border=\"1\" class=\"dataframe\">\n",
       "  <thead>\n",
       "    <tr style=\"text-align: right;\">\n",
       "      <th></th>\n",
       "      <th>Name</th>\n",
       "      <th>WHO Region</th>\n",
       "      <th>Cases - cumulative total</th>\n",
       "      <th>Cases - cumulative total per 1 million population</th>\n",
       "      <th>Cases - newly reported in last 7 days</th>\n",
       "      <th>Cases - newly reported in last 24 hours</th>\n",
       "      <th>Deaths - cumulative total</th>\n",
       "      <th>Deaths - cumulative total per 1 million population</th>\n",
       "      <th>Deaths - newly reported in last 7 days</th>\n",
       "      <th>Deaths - newly reported in last 24 hours</th>\n",
       "      <th>Transmission Classification</th>\n",
       "    </tr>\n",
       "  </thead>\n",
       "  <tbody>\n",
       "    <tr>\n",
       "      <th>0</th>\n",
       "      <td>United States of America</td>\n",
       "      <td>Americas</td>\n",
       "      <td>22645757</td>\n",
       "      <td>68415.64</td>\n",
       "      <td>1774844</td>\n",
       "      <td>217166</td>\n",
       "      <td>377446</td>\n",
       "      <td>1140.31</td>\n",
       "      <td>23160</td>\n",
       "      <td>4117</td>\n",
       "      <td>Community transmission</td>\n",
       "    </tr>\n",
       "    <tr>\n",
       "      <th>1</th>\n",
       "      <td>India</td>\n",
       "      <td>South-East Asia</td>\n",
       "      <td>10512093</td>\n",
       "      <td>7617.43</td>\n",
       "      <td>116815</td>\n",
       "      <td>16946</td>\n",
       "      <td>151727</td>\n",
       "      <td>109.95</td>\n",
       "      <td>1391</td>\n",
       "      <td>198</td>\n",
       "      <td>Clusters of cases</td>\n",
       "    </tr>\n",
       "    <tr>\n",
       "      <th>2</th>\n",
       "      <td>Brazil</td>\n",
       "      <td>Americas</td>\n",
       "      <td>8195637</td>\n",
       "      <td>38556.92</td>\n",
       "      <td>385237</td>\n",
       "      <td>64025</td>\n",
       "      <td>204690</td>\n",
       "      <td>962.98</td>\n",
       "      <td>6958</td>\n",
       "      <td>1110</td>\n",
       "      <td>Community transmission</td>\n",
       "    </tr>\n",
       "    <tr>\n",
       "      <th>3</th>\n",
       "      <td>Russian Federation</td>\n",
       "      <td>Europe</td>\n",
       "      <td>3471053</td>\n",
       "      <td>23785.01</td>\n",
       "      <td>162452</td>\n",
       "      <td>22850</td>\n",
       "      <td>63370</td>\n",
       "      <td>434.24</td>\n",
       "      <td>3419</td>\n",
       "      <td>566</td>\n",
       "      <td>Clusters of cases</td>\n",
       "    </tr>\n",
       "    <tr>\n",
       "      <th>4</th>\n",
       "      <td>The United Kingdom</td>\n",
       "      <td>Europe</td>\n",
       "      <td>3164055</td>\n",
       "      <td>46608.35</td>\n",
       "      <td>389572</td>\n",
       "      <td>45533</td>\n",
       "      <td>83203</td>\n",
       "      <td>1225.63</td>\n",
       "      <td>6898</td>\n",
       "      <td>1243</td>\n",
       "      <td>Community transmission</td>\n",
       "    </tr>\n",
       "  </tbody>\n",
       "</table>\n",
       "</div>"
      ],
      "text/plain": [
       "                       Name       WHO Region  Cases - cumulative total  \\\n",
       "0  United States of America         Americas                  22645757   \n",
       "1                     India  South-East Asia                  10512093   \n",
       "2                    Brazil         Americas                   8195637   \n",
       "3        Russian Federation           Europe                   3471053   \n",
       "4        The United Kingdom           Europe                   3164055   \n",
       "\n",
       "   Cases - cumulative total per 1 million population  \\\n",
       "0                                           68415.64   \n",
       "1                                            7617.43   \n",
       "2                                           38556.92   \n",
       "3                                           23785.01   \n",
       "4                                           46608.35   \n",
       "\n",
       "   Cases - newly reported in last 7 days  \\\n",
       "0                                1774844   \n",
       "1                                 116815   \n",
       "2                                 385237   \n",
       "3                                 162452   \n",
       "4                                 389572   \n",
       "\n",
       "   Cases - newly reported in last 24 hours  Deaths - cumulative total  \\\n",
       "0                                   217166                     377446   \n",
       "1                                    16946                     151727   \n",
       "2                                    64025                     204690   \n",
       "3                                    22850                      63370   \n",
       "4                                    45533                      83203   \n",
       "\n",
       "   Deaths - cumulative total per 1 million population  \\\n",
       "0                                            1140.31    \n",
       "1                                             109.95    \n",
       "2                                             962.98    \n",
       "3                                             434.24    \n",
       "4                                            1225.63    \n",
       "\n",
       "   Deaths - newly reported in last 7 days  \\\n",
       "0                                   23160   \n",
       "1                                    1391   \n",
       "2                                    6958   \n",
       "3                                    3419   \n",
       "4                                    6898   \n",
       "\n",
       "   Deaths - newly reported in last 24 hours Transmission Classification  \n",
       "0                                      4117      Community transmission  \n",
       "1                                       198           Clusters of cases  \n",
       "2                                      1110      Community transmission  \n",
       "3                                       566           Clusters of cases  \n",
       "4                                      1243      Community transmission  "
      ]
     },
     "execution_count": 13,
     "metadata": {},
     "output_type": "execute_result"
    }
   ],
   "source": [
    "df.head()"
   ]
  },
  {
   "cell_type": "code",
   "execution_count": 14,
   "metadata": {},
   "outputs": [
    {
     "data": {
      "text/plain": [
       "(237, 11)"
      ]
     },
     "execution_count": 14,
     "metadata": {},
     "output_type": "execute_result"
    }
   ],
   "source": [
    "df.shape"
   ]
  },
  {
   "cell_type": "code",
   "execution_count": 15,
   "metadata": {},
   "outputs": [],
   "source": [
    "data1=df.drop('WHO Region',axis=1)"
   ]
  },
  {
   "cell_type": "code",
   "execution_count": 16,
   "metadata": {
    "scrolled": true
   },
   "outputs": [
    {
     "data": {
      "text/html": [
       "<div>\n",
       "<style scoped>\n",
       "    .dataframe tbody tr th:only-of-type {\n",
       "        vertical-align: middle;\n",
       "    }\n",
       "\n",
       "    .dataframe tbody tr th {\n",
       "        vertical-align: top;\n",
       "    }\n",
       "\n",
       "    .dataframe thead th {\n",
       "        text-align: right;\n",
       "    }\n",
       "</style>\n",
       "<table border=\"1\" class=\"dataframe\">\n",
       "  <thead>\n",
       "    <tr style=\"text-align: right;\">\n",
       "      <th></th>\n",
       "      <th>Name</th>\n",
       "      <th>Cases - cumulative total</th>\n",
       "      <th>Cases - cumulative total per 1 million population</th>\n",
       "      <th>Cases - newly reported in last 7 days</th>\n",
       "      <th>Cases - newly reported in last 24 hours</th>\n",
       "      <th>Deaths - cumulative total</th>\n",
       "      <th>Deaths - cumulative total per 1 million population</th>\n",
       "      <th>Deaths - newly reported in last 7 days</th>\n",
       "      <th>Deaths - newly reported in last 24 hours</th>\n",
       "      <th>Transmission Classification</th>\n",
       "    </tr>\n",
       "  </thead>\n",
       "  <tbody>\n",
       "    <tr>\n",
       "      <th>0</th>\n",
       "      <td>United States of America</td>\n",
       "      <td>22645757</td>\n",
       "      <td>68415.64</td>\n",
       "      <td>1774844</td>\n",
       "      <td>217166</td>\n",
       "      <td>377446</td>\n",
       "      <td>1140.31</td>\n",
       "      <td>23160</td>\n",
       "      <td>4117</td>\n",
       "      <td>Community transmission</td>\n",
       "    </tr>\n",
       "    <tr>\n",
       "      <th>1</th>\n",
       "      <td>India</td>\n",
       "      <td>10512093</td>\n",
       "      <td>7617.43</td>\n",
       "      <td>116815</td>\n",
       "      <td>16946</td>\n",
       "      <td>151727</td>\n",
       "      <td>109.95</td>\n",
       "      <td>1391</td>\n",
       "      <td>198</td>\n",
       "      <td>Clusters of cases</td>\n",
       "    </tr>\n",
       "    <tr>\n",
       "      <th>2</th>\n",
       "      <td>Brazil</td>\n",
       "      <td>8195637</td>\n",
       "      <td>38556.92</td>\n",
       "      <td>385237</td>\n",
       "      <td>64025</td>\n",
       "      <td>204690</td>\n",
       "      <td>962.98</td>\n",
       "      <td>6958</td>\n",
       "      <td>1110</td>\n",
       "      <td>Community transmission</td>\n",
       "    </tr>\n",
       "    <tr>\n",
       "      <th>3</th>\n",
       "      <td>Russian Federation</td>\n",
       "      <td>3471053</td>\n",
       "      <td>23785.01</td>\n",
       "      <td>162452</td>\n",
       "      <td>22850</td>\n",
       "      <td>63370</td>\n",
       "      <td>434.24</td>\n",
       "      <td>3419</td>\n",
       "      <td>566</td>\n",
       "      <td>Clusters of cases</td>\n",
       "    </tr>\n",
       "    <tr>\n",
       "      <th>4</th>\n",
       "      <td>The United Kingdom</td>\n",
       "      <td>3164055</td>\n",
       "      <td>46608.35</td>\n",
       "      <td>389572</td>\n",
       "      <td>45533</td>\n",
       "      <td>83203</td>\n",
       "      <td>1225.63</td>\n",
       "      <td>6898</td>\n",
       "      <td>1243</td>\n",
       "      <td>Community transmission</td>\n",
       "    </tr>\n",
       "  </tbody>\n",
       "</table>\n",
       "</div>"
      ],
      "text/plain": [
       "                       Name  Cases - cumulative total  \\\n",
       "0  United States of America                  22645757   \n",
       "1                     India                  10512093   \n",
       "2                    Brazil                   8195637   \n",
       "3        Russian Federation                   3471053   \n",
       "4        The United Kingdom                   3164055   \n",
       "\n",
       "   Cases - cumulative total per 1 million population  \\\n",
       "0                                           68415.64   \n",
       "1                                            7617.43   \n",
       "2                                           38556.92   \n",
       "3                                           23785.01   \n",
       "4                                           46608.35   \n",
       "\n",
       "   Cases - newly reported in last 7 days  \\\n",
       "0                                1774844   \n",
       "1                                 116815   \n",
       "2                                 385237   \n",
       "3                                 162452   \n",
       "4                                 389572   \n",
       "\n",
       "   Cases - newly reported in last 24 hours  Deaths - cumulative total  \\\n",
       "0                                   217166                     377446   \n",
       "1                                    16946                     151727   \n",
       "2                                    64025                     204690   \n",
       "3                                    22850                      63370   \n",
       "4                                    45533                      83203   \n",
       "\n",
       "   Deaths - cumulative total per 1 million population  \\\n",
       "0                                            1140.31    \n",
       "1                                             109.95    \n",
       "2                                             962.98    \n",
       "3                                             434.24    \n",
       "4                                            1225.63    \n",
       "\n",
       "   Deaths - newly reported in last 7 days  \\\n",
       "0                                   23160   \n",
       "1                                    1391   \n",
       "2                                    6958   \n",
       "3                                    3419   \n",
       "4                                    6898   \n",
       "\n",
       "   Deaths - newly reported in last 24 hours Transmission Classification  \n",
       "0                                      4117      Community transmission  \n",
       "1                                       198           Clusters of cases  \n",
       "2                                      1110      Community transmission  \n",
       "3                                       566           Clusters of cases  \n",
       "4                                      1243      Community transmission  "
      ]
     },
     "execution_count": 16,
     "metadata": {},
     "output_type": "execute_result"
    }
   ],
   "source": [
    "data1.head()"
   ]
  },
  {
   "cell_type": "code",
   "execution_count": 36,
   "metadata": {},
   "outputs": [],
   "source": [
    "import seaborn as sns\n",
    "import matplotlib.pyplot as plt"
   ]
  },
  {
   "cell_type": "code",
   "execution_count": 40,
   "metadata": {
    "scrolled": true
   },
   "outputs": [
    {
     "data": {
      "text/plain": [
       "(array([ 0,  1,  2,  3,  4,  5,  6,  7,  8,  9, 10, 11, 12, 13, 14, 15, 16,\n",
       "        17, 18, 19]),\n",
       " <a list of 20 Text xticklabel objects>)"
      ]
     },
     "execution_count": 40,
     "metadata": {},
     "output_type": "execute_result"
    },
    {
     "data": {
      "image/png": "[encoded data removed]",
      "text/plain": [
       "<Figure size 432x288 with 1 Axes>"
      ]
     },
     "metadata": {
      "needs_background": "light"
     },
     "output_type": "display_data"
    }
   ],
   "source": [
    "rotat = sns.barplot(y='Cases - newly reported in last 24 hours',x='Name',data=data1.head(20))\n",
    "# rotat.set_xticklabels(rotat.get_xticklabels(), rotation=90)\n",
    "plt.xticks(rotation=90)"
   ]
  },
  {
   "cell_type": "code",
   "execution_count": 41,
   "metadata": {
    "scrolled": true
   },
   "outputs": [
    {
     "data": {
      "text/plain": [
       "(array([ 0,  1,  2,  3,  4,  5,  6,  7,  8,  9, 10, 11, 12, 13, 14, 15, 16,\n",
       "        17, 18, 19]),\n",
       " <a list of 20 Text xticklabel objects>)"
      ]
     },
     "execution_count": 41,
     "metadata": {},
     "output_type": "execute_result"
    },
    {
     "data": {
      "image/png": "[encoded data removed]",
      "text/plain": [
       "<Figure size 432x288 with 1 Axes>"
      ]
     },
     "metadata": {
      "needs_background": "light"
     },
     "output_type": "display_data"
    }
   ],
   "source": [
    "sns.boxplot(y='Cases - newly reported in last 24 hours',x='Name',data=data1.head(20))\n",
    "plt.xticks(rotation=90)"
   ]
  },
  {
   "cell_type": "code",
   "execution_count": 46,
   "metadata": {},
   "outputs": [
    {
     "data": {
      "text/plain": [
       "array(['Community transmission', 'Clusters of cases', 'Sporadic cases',\n",
       "       'Pending', 'Not applicable', 'No cases'], dtype=object)"
      ]
     },
     "execution_count": 46,
     "metadata": {},
     "output_type": "execute_result"
    }
   ],
   "source": [
    "df['Transmission Classification'].unique()"
   ]
  },
  {
   "cell_type": "code",
   "execution_count": 53,
   "metadata": {
    "scrolled": true
   },
   "outputs": [
    {
     "data": {
      "text/plain": [
       "(array([0, 1, 2, 3, 4, 5]), <a list of 6 Text xticklabel objects>)"
      ]
     },
     "execution_count": 53,
     "metadata": {},
     "output_type": "execute_result"
    },
    {
     "data": {
      "image/png": "[encoded data removed]",
      "text/plain": [
       "<Figure size 432x288 with 1 Axes>"
      ]
     },
     "metadata": {
      "needs_background": "light"
     },
     "output_type": "display_data"
    }
   ],
   "source": [
    "sns.countplot(x='Transmission Classification',data=data1)\n",
    "plt.xticks(rotation=90)"
   ]
  },
  {
   "cell_type": "code",
   "execution_count": 74,
   "metadata": {},
   "outputs": [
    {
     "name": "stdout",
     "output_type": "stream",
     "text": [
      "community transmisson caused  69675129  coronavirus cases all around the world\n"
     ]
    }
   ],
   "source": [
    "community_trans=data1[df['Transmission Classification']=='Community transmission']\n",
    "print('community transmisson caused ', community_trans['Cases - cumulative total'].sum(),' coronavirus cases all around the world')"
   ]
  },
  {
   "cell_type": "code",
   "execution_count": 75,
   "metadata": {},
   "outputs": [
    {
     "name": "stdout",
     "output_type": "stream",
     "text": [
      "cluster transmisson caused  20616593  coronavirus cases all around the world\n"
     ]
    }
   ],
   "source": [
    "\n",
    "cluster=data1[df['Transmission Classification']=='Clusters of cases']\n",
    "print('cluster transmisson caused ', cluster['Cases - cumulative total'].sum(),' coronavirus cases all around the world')"
   ]
  },
  {
   "cell_type": "code",
   "execution_count": 76,
   "metadata": {
    "scrolled": true
   },
   "outputs": [
    {
     "data": {
      "text/plain": [
       "(array([ 0,  1,  2,  3,  4,  5,  6,  7,  8,  9, 10, 11, 12, 13, 14, 15, 16,\n",
       "        17, 18, 19]),\n",
       " <a list of 20 Text xticklabel objects>)"
      ]
     },
     "execution_count": 76,
     "metadata": {},
     "output_type": "execute_result"
    },
    {
     "data": {
      "image/png": "[encoded data removed]",
      "text/plain": [
       "<Figure size 432x288 with 1 Axes>"
      ]
     },
     "metadata": {
      "needs_background": "light"
     },
     "output_type": "display_data"
    }
   ],
   "source": [
    "sns.barplot(x='Name',y='Deaths - cumulative total',data=data1.head(20))\n",
    "plt.xticks(rotation=90)"
   ]
  },
  {
   "cell_type": "code",
   "execution_count": 77,
   "metadata": {},
   "outputs": [
    {
     "data": {
      "text/plain": [
       "(array([ 0,  1,  2,  3,  4,  5,  6,  7,  8,  9, 10, 11, 12, 13, 14, 15, 16,\n",
       "        17, 18, 19]),\n",
       " <a list of 20 Text xticklabel objects>)"
      ]
     },
     "execution_count": 77,
     "metadata": {},
     "output_type": "execute_result"
    },
    {
     "data": {
      "image/png": "[encoded data removed]",
      "text/plain": [
       "<Figure size 432x288 with 1 Axes>"
      ]
     },
     "metadata": {
      "needs_background": "light"
     },
     "output_type": "display_data"
    }
   ],
   "source": [
    "sns.barplot(x='Name',y='Deaths - cumulative total per 1 million population',data=data1.head(20))\n",
    "plt.xticks(rotation=90)"
   ]
  },
  {
   "cell_type": "code",
   "execution_count": 80,
   "metadata": {
    "scrolled": true
   },
   "outputs": [
    {
     "data": {
      "text/plain": [
       "(array([ 0,  1,  2,  3,  4,  5,  6,  7,  8,  9, 10, 11, 12, 13, 14, 15, 16,\n",
       "        17, 18, 19]),\n",
       " <a list of 20 Text xticklabel objects>)"
      ]
     },
     "execution_count": 80,
     "metadata": {},
     "output_type": "execute_result"
    },
    {
     "data": {
      "image/png": "[encoded data removed]",
      "text/plain": [
       "<Figure size 432x288 with 1 Axes>"
      ]
     },
     "metadata": {
      "needs_background": "light"
     },
     "output_type": "display_data"
    }
   ],
   "source": [
    "sns.barplot(x='Name',y='Cases - cumulative total',data=community_trans.head(20))\n",
    "plt.xticks(rotation=90)"
   ]
  },
  {
   "cell_type": "code",
   "execution_count": 83,
   "metadata": {
    "scrolled": false
   },
   "outputs": [
    {
     "data": {
      "text/plain": [
       "(array([ 0,  1,  2,  3,  4,  5,  6,  7,  8,  9, 10, 11, 12, 13, 14, 15, 16,\n",
       "        17, 18, 19]),\n",
       " <a list of 20 Text xticklabel objects>)"
      ]
     },
     "execution_count": 83,
     "metadata": {},
     "output_type": "execute_result"
    },
    {
     "data": {
      "image/png": "[encoded data removed]",
      "text/plain": [
       "<Figure size 432x288 with 1 Axes>"
      ]
     },
     "metadata": {
      "needs_background": "light"
     },
     "output_type": "display_data"
    }
   ],
   "source": [
    "sns.barplot(x='Name',y='Cases - cumulative total',data=cluster.head(20))\n",
    "plt.xticks(rotation=90)"
   ]
  },
  {
   "cell_type": "code",
   "execution_count": 104,
   "metadata": {
    "scrolled": true
   },
   "outputs": [
    {
     "data": {
      "text/plain": [
       "(array([ 0,  1,  2,  3,  4,  5,  6,  7,  8,  9, 10, 11, 12, 13, 14, 15, 16,\n",
       "        17, 18, 19]),\n",
       " <a list of 20 Text xticklabel objects>)"
      ]
     },
     "execution_count": 104,
     "metadata": {},
     "output_type": "execute_result"
    },
    {
     "data": {
      "image/png": "[encoded data removed]",
      "text/plain": [
       "<Figure size 1440x504 with 1 Axes>"
      ]
     },
     "metadata": {
      "needs_background": "light"
     },
     "output_type": "display_data"
    }
   ],
   "source": [
    "dims = (20,7)\n",
    "fig,ax = plt.subplots(figsize=dims)\n",
    "sns.barplot(x='Name',y='Deaths - cumulative total per 1 million population',data=cluster.head(20),ax=ax)\n",
    "plt.xticks(rotation=90)"
   ]
  },
  {
   "cell_type": "code",
   "execution_count": 90,
   "metadata": {
    "scrolled": true
   },
   "outputs": [
    {
     "data": {
      "text/html": [
       "<div>\n",
       "<style scoped>\n",
       "    .dataframe tbody tr th:only-of-type {\n",
       "        vertical-align: middle;\n",
       "    }\n",
       "\n",
       "    .dataframe tbody tr th {\n",
       "        vertical-align: top;\n",
       "    }\n",
       "\n",
       "    .dataframe thead th {\n",
       "        text-align: right;\n",
       "    }\n",
       "</style>\n",
       "<table border=\"1\" class=\"dataframe\">\n",
       "  <thead>\n",
       "    <tr style=\"text-align: right;\">\n",
       "      <th></th>\n",
       "      <th>Name</th>\n",
       "      <th>Cases - cumulative total</th>\n",
       "      <th>Cases - cumulative total per 1 million population</th>\n",
       "      <th>Cases - newly reported in last 7 days</th>\n",
       "      <th>Cases - newly reported in last 24 hours</th>\n",
       "      <th>Deaths - cumulative total</th>\n",
       "      <th>Deaths - cumulative total per 1 million population</th>\n",
       "      <th>Deaths - newly reported in last 7 days</th>\n",
       "      <th>Deaths - newly reported in last 24 hours</th>\n",
       "      <th>Transmission Classification</th>\n",
       "    </tr>\n",
       "  </thead>\n",
       "  <tbody>\n",
       "    <tr>\n",
       "      <th>0</th>\n",
       "      <td>United States of America</td>\n",
       "      <td>22645757</td>\n",
       "      <td>68415.64</td>\n",
       "      <td>1774844</td>\n",
       "      <td>217166</td>\n",
       "      <td>377446</td>\n",
       "      <td>1140.31</td>\n",
       "      <td>23160</td>\n",
       "      <td>4117</td>\n",
       "      <td>Community transmission</td>\n",
       "    </tr>\n",
       "    <tr>\n",
       "      <th>2</th>\n",
       "      <td>Brazil</td>\n",
       "      <td>8195637</td>\n",
       "      <td>38556.92</td>\n",
       "      <td>385237</td>\n",
       "      <td>64025</td>\n",
       "      <td>204690</td>\n",
       "      <td>962.98</td>\n",
       "      <td>6958</td>\n",
       "      <td>1110</td>\n",
       "      <td>Community transmission</td>\n",
       "    </tr>\n",
       "    <tr>\n",
       "      <th>4</th>\n",
       "      <td>The United Kingdom</td>\n",
       "      <td>3164055</td>\n",
       "      <td>46608.35</td>\n",
       "      <td>389572</td>\n",
       "      <td>45533</td>\n",
       "      <td>83203</td>\n",
       "      <td>1225.63</td>\n",
       "      <td>6898</td>\n",
       "      <td>1243</td>\n",
       "      <td>Community transmission</td>\n",
       "    </tr>\n",
       "    <tr>\n",
       "      <th>5</th>\n",
       "      <td>France</td>\n",
       "      <td>2760259</td>\n",
       "      <td>42287.58</td>\n",
       "      <td>124708</td>\n",
       "      <td>19603</td>\n",
       "      <td>68419</td>\n",
       "      <td>1048.19</td>\n",
       "      <td>2517</td>\n",
       "      <td>362</td>\n",
       "      <td>Community transmission</td>\n",
       "    </tr>\n",
       "    <tr>\n",
       "      <th>7</th>\n",
       "      <td>Spain</td>\n",
       "      <td>2137220</td>\n",
       "      <td>45711.26</td>\n",
       "      <td>119432</td>\n",
       "      <td>14060</td>\n",
       "      <td>52683</td>\n",
       "      <td>1126.79</td>\n",
       "      <td>723</td>\n",
       "      <td>43</td>\n",
       "      <td>Community transmission</td>\n",
       "    </tr>\n",
       "  </tbody>\n",
       "</table>\n",
       "</div>"
      ],
      "text/plain": [
       "                       Name  Cases - cumulative total  \\\n",
       "0  United States of America                  22645757   \n",
       "2                    Brazil                   8195637   \n",
       "4        The United Kingdom                   3164055   \n",
       "5                    France                   2760259   \n",
       "7                     Spain                   2137220   \n",
       "\n",
       "   Cases - cumulative total per 1 million population  \\\n",
       "0                                           68415.64   \n",
       "2                                           38556.92   \n",
       "4                                           46608.35   \n",
       "5                                           42287.58   \n",
       "7                                           45711.26   \n",
       "\n",
       "   Cases - newly reported in last 7 days  \\\n",
       "0                                1774844   \n",
       "2                                 385237   \n",
       "4                                 389572   \n",
       "5                                 124708   \n",
       "7                                 119432   \n",
       "\n",
       "   Cases - newly reported in last 24 hours  Deaths - cumulative total  \\\n",
       "0                                   217166                     377446   \n",
       "2                                    64025                     204690   \n",
       "4                                    45533                      83203   \n",
       "5                                    19603                      68419   \n",
       "7                                    14060                      52683   \n",
       "\n",
       "   Deaths - cumulative total per 1 million population  \\\n",
       "0                                            1140.31    \n",
       "2                                             962.98    \n",
       "4                                            1225.63    \n",
       "5                                            1048.19    \n",
       "7                                            1126.79    \n",
       "\n",
       "   Deaths - newly reported in last 7 days  \\\n",
       "0                                   23160   \n",
       "2                                    6958   \n",
       "4                                    6898   \n",
       "5                                    2517   \n",
       "7                                     723   \n",
       "\n",
       "   Deaths - newly reported in last 24 hours Transmission Classification  \n",
       "0                                      4117      Community transmission  \n",
       "2                                      1110      Community transmission  \n",
       "4                                      1243      Community transmission  \n",
       "5                                       362      Community transmission  \n",
       "7                                        43      Community transmission  "
      ]
     },
     "execution_count": 90,
     "metadata": {},
     "output_type": "execute_result"
    }
   ],
   "source": [
    "community_trans.head()\n"
   ]
  },
  {
   "cell_type": "code",
   "execution_count": 91,
   "metadata": {
    "scrolled": true
   },
   "outputs": [
    {
     "data": {
      "text/html": [
       "<div>\n",
       "<style scoped>\n",
       "    .dataframe tbody tr th:only-of-type {\n",
       "        vertical-align: middle;\n",
       "    }\n",
       "\n",
       "    .dataframe tbody tr th {\n",
       "        vertical-align: top;\n",
       "    }\n",
       "\n",
       "    .dataframe thead th {\n",
       "        text-align: right;\n",
       "    }\n",
       "</style>\n",
       "<table border=\"1\" class=\"dataframe\">\n",
       "  <thead>\n",
       "    <tr style=\"text-align: right;\">\n",
       "      <th></th>\n",
       "      <th>Name</th>\n",
       "      <th>Cases - cumulative total</th>\n",
       "      <th>Cases - cumulative total per 1 million population</th>\n",
       "      <th>Cases - newly reported in last 7 days</th>\n",
       "      <th>Cases - newly reported in last 24 hours</th>\n",
       "      <th>Deaths - cumulative total</th>\n",
       "      <th>Deaths - cumulative total per 1 million population</th>\n",
       "      <th>Deaths - newly reported in last 7 days</th>\n",
       "      <th>Deaths - newly reported in last 24 hours</th>\n",
       "      <th>Transmission Classification</th>\n",
       "    </tr>\n",
       "  </thead>\n",
       "  <tbody>\n",
       "    <tr>\n",
       "      <th>1</th>\n",
       "      <td>India</td>\n",
       "      <td>10512093</td>\n",
       "      <td>7617.43</td>\n",
       "      <td>116815</td>\n",
       "      <td>16946</td>\n",
       "      <td>151727</td>\n",
       "      <td>109.95</td>\n",
       "      <td>1391</td>\n",
       "      <td>198</td>\n",
       "      <td>Clusters of cases</td>\n",
       "    </tr>\n",
       "    <tr>\n",
       "      <th>3</th>\n",
       "      <td>Russian Federation</td>\n",
       "      <td>3471053</td>\n",
       "      <td>23785.01</td>\n",
       "      <td>162452</td>\n",
       "      <td>22850</td>\n",
       "      <td>63370</td>\n",
       "      <td>434.24</td>\n",
       "      <td>3419</td>\n",
       "      <td>566</td>\n",
       "      <td>Clusters of cases</td>\n",
       "    </tr>\n",
       "    <tr>\n",
       "      <th>6</th>\n",
       "      <td>Italy</td>\n",
       "      <td>2303263</td>\n",
       "      <td>38094.50</td>\n",
       "      <td>121644</td>\n",
       "      <td>14242</td>\n",
       "      <td>79819</td>\n",
       "      <td>1320.16</td>\n",
       "      <td>3490</td>\n",
       "      <td>616</td>\n",
       "      <td>Clusters of cases</td>\n",
       "    </tr>\n",
       "    <tr>\n",
       "      <th>27</th>\n",
       "      <td>Pakistan</td>\n",
       "      <td>508824</td>\n",
       "      <td>2303.49</td>\n",
       "      <td>16230</td>\n",
       "      <td>2123</td>\n",
       "      <td>10772</td>\n",
       "      <td>48.77</td>\n",
       "      <td>311</td>\n",
       "      <td>55</td>\n",
       "      <td>Clusters of cases</td>\n",
       "    </tr>\n",
       "    <tr>\n",
       "      <th>29</th>\n",
       "      <td>Portugal</td>\n",
       "      <td>496552</td>\n",
       "      <td>48697.28</td>\n",
       "      <td>59973</td>\n",
       "      <td>7259</td>\n",
       "      <td>8080</td>\n",
       "      <td>792.41</td>\n",
       "      <td>794</td>\n",
       "      <td>155</td>\n",
       "      <td>Clusters of cases</td>\n",
       "    </tr>\n",
       "  </tbody>\n",
       "</table>\n",
       "</div>"
      ],
      "text/plain": [
       "                  Name  Cases - cumulative total  \\\n",
       "1                India                  10512093   \n",
       "3   Russian Federation                   3471053   \n",
       "6                Italy                   2303263   \n",
       "27            Pakistan                    508824   \n",
       "29            Portugal                    496552   \n",
       "\n",
       "    Cases - cumulative total per 1 million population  \\\n",
       "1                                             7617.43   \n",
       "3                                            23785.01   \n",
       "6                                            38094.50   \n",
       "27                                            2303.49   \n",
       "29                                           48697.28   \n",
       "\n",
       "    Cases - newly reported in last 7 days  \\\n",
       "1                                  116815   \n",
       "3                                  162452   \n",
       "6                                  121644   \n",
       "27                                  16230   \n",
       "29                                  59973   \n",
       "\n",
       "    Cases - newly reported in last 24 hours  Deaths - cumulative total  \\\n",
       "1                                     16946                     151727   \n",
       "3                                     22850                      63370   \n",
       "6                                     14242                      79819   \n",
       "27                                     2123                      10772   \n",
       "29                                     7259                       8080   \n",
       "\n",
       "    Deaths - cumulative total per 1 million population  \\\n",
       "1                                              109.95    \n",
       "3                                              434.24    \n",
       "6                                             1320.16    \n",
       "27                                              48.77    \n",
       "29                                             792.41    \n",
       "\n",
       "    Deaths - newly reported in last 7 days  \\\n",
       "1                                     1391   \n",
       "3                                     3419   \n",
       "6                                     3490   \n",
       "27                                     311   \n",
       "29                                     794   \n",
       "\n",
       "    Deaths - newly reported in last 24 hours Transmission Classification  \n",
       "1                                        198           Clusters of cases  \n",
       "3                                        566           Clusters of cases  \n",
       "6                                        616           Clusters of cases  \n",
       "27                                        55           Clusters of cases  \n",
       "29                                       155           Clusters of cases  "
      ]
     },
     "execution_count": 91,
     "metadata": {},
     "output_type": "execute_result"
    }
   ],
   "source": [
    "cluster.head()"
   ]
  },
  {
   "cell_type": "code",
   "execution_count": 96,
   "metadata": {
    "scrolled": true
   },
   "outputs": [
    {
     "data": {
      "text/plain": [
       "(array([0, 1]), <a list of 2 Text xticklabel objects>)"
      ]
     },
     "execution_count": 96,
     "metadata": {},
     "output_type": "execute_result"
    },
    {
     "data": {
      "image/png": "[encoded data removed]",
      "text/plain": [
       "<Figure size 880.75x720 with 1 Axes>"
      ]
     },
     "metadata": {
      "needs_background": "light"
     },
     "output_type": "display_data"
    }
   ],
   "source": [
    "sns.catplot(x='Transmission Classification',y='Cases - cumulative total',hue='Name',data=data1.head(15),height=10)\n",
    "plt.xticks(rotation=90)"
   ]
  },
  {
   "cell_type": "code",
   "execution_count": null,
   "metadata": {},
   "outputs": [],
   "source": []
  }
 ],
 "metadata": {
  "kernelspec": {
   "display_name": "Python 3",
   "language": "python",
   "name": "python3"
  },
  "language_info": {
   "codemirror_mode": {
    "name": "ipython",
    "version": 3
   },
   "file_extension": ".py",
   "mimetype": "text/x-python",
   "name": "python",
   "nbconvert_exporter": "python",
   "pygments_lexer": "ipython3",
   "version": "3.7.6"
  }
 },
 "nbformat": 4,
 "nbformat_minor": 4
}
